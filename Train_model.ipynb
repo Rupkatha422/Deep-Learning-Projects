{
  "cells": [
    {
      "cell_type": "code",
      "execution_count": null,
      "metadata": {
        "id": "zwFnJsE6vjf8"
      },
      "outputs": [],
      "source": []
    },
    {
      "cell_type": "code",
      "source": [
        "pip install tensorflow"
      ],
      "metadata": {
        "id": "dDFeJspo-oJV",
        "outputId": "13d5d821-a8f9-4053-e515-95fcef3eab16",
        "colab": {
          "base_uri": "https://localhost:8080/"
        }
      },
      "execution_count": null,
      "outputs": [
        {
          "output_type": "stream",
          "name": "stdout",
          "text": [
            "Requirement already satisfied: tensorflow in /usr/local/lib/python3.10/dist-packages (2.15.0)\n",
            "Requirement already satisfied: absl-py>=1.0.0 in /usr/local/lib/python3.10/dist-packages (from tensorflow) (1.4.0)\n",
            "Requirement already satisfied: astunparse>=1.6.0 in /usr/local/lib/python3.10/dist-packages (from tensorflow) (1.6.3)\n",
            "Requirement already satisfied: flatbuffers>=23.5.26 in /usr/local/lib/python3.10/dist-packages (from tensorflow) (24.3.7)\n",
            "Requirement already satisfied: gast!=0.5.0,!=0.5.1,!=0.5.2,>=0.2.1 in /usr/local/lib/python3.10/dist-packages (from tensorflow) (0.5.4)\n",
            "Requirement already satisfied: google-pasta>=0.1.1 in /usr/local/lib/python3.10/dist-packages (from tensorflow) (0.2.0)\n",
            "Requirement already satisfied: h5py>=2.9.0 in /usr/local/lib/python3.10/dist-packages (from tensorflow) (3.9.0)\n",
            "Requirement already satisfied: libclang>=13.0.0 in /usr/local/lib/python3.10/dist-packages (from tensorflow) (16.0.6)\n",
            "Requirement already satisfied: ml-dtypes~=0.2.0 in /usr/local/lib/python3.10/dist-packages (from tensorflow) (0.2.0)\n",
            "Requirement already satisfied: numpy<2.0.0,>=1.23.5 in /usr/local/lib/python3.10/dist-packages (from tensorflow) (1.25.2)\n",
            "Requirement already satisfied: opt-einsum>=2.3.2 in /usr/local/lib/python3.10/dist-packages (from tensorflow) (3.3.0)\n",
            "Requirement already satisfied: packaging in /usr/local/lib/python3.10/dist-packages (from tensorflow) (24.0)\n",
            "Requirement already satisfied: protobuf!=4.21.0,!=4.21.1,!=4.21.2,!=4.21.3,!=4.21.4,!=4.21.5,<5.0.0dev,>=3.20.3 in /usr/local/lib/python3.10/dist-packages (from tensorflow) (3.20.3)\n",
            "Requirement already satisfied: setuptools in /usr/local/lib/python3.10/dist-packages (from tensorflow) (67.7.2)\n",
            "Requirement already satisfied: six>=1.12.0 in /usr/local/lib/python3.10/dist-packages (from tensorflow) (1.16.0)\n",
            "Requirement already satisfied: termcolor>=1.1.0 in /usr/local/lib/python3.10/dist-packages (from tensorflow) (2.4.0)\n",
            "Requirement already satisfied: typing-extensions>=3.6.6 in /usr/local/lib/python3.10/dist-packages (from tensorflow) (4.10.0)\n",
            "Requirement already satisfied: wrapt<1.15,>=1.11.0 in /usr/local/lib/python3.10/dist-packages (from tensorflow) (1.14.1)\n",
            "Requirement already satisfied: tensorflow-io-gcs-filesystem>=0.23.1 in /usr/local/lib/python3.10/dist-packages (from tensorflow) (0.36.0)\n",
            "Requirement already satisfied: grpcio<2.0,>=1.24.3 in /usr/local/lib/python3.10/dist-packages (from tensorflow) (1.62.1)\n",
            "Requirement already satisfied: tensorboard<2.16,>=2.15 in /usr/local/lib/python3.10/dist-packages (from tensorflow) (2.15.2)\n",
            "Requirement already satisfied: tensorflow-estimator<2.16,>=2.15.0 in /usr/local/lib/python3.10/dist-packages (from tensorflow) (2.15.0)\n",
            "Requirement already satisfied: keras<2.16,>=2.15.0 in /usr/local/lib/python3.10/dist-packages (from tensorflow) (2.15.0)\n",
            "Requirement already satisfied: wheel<1.0,>=0.23.0 in /usr/local/lib/python3.10/dist-packages (from astunparse>=1.6.0->tensorflow) (0.43.0)\n",
            "Requirement already satisfied: google-auth<3,>=1.6.3 in /usr/local/lib/python3.10/dist-packages (from tensorboard<2.16,>=2.15->tensorflow) (2.27.0)\n",
            "Requirement already satisfied: google-auth-oauthlib<2,>=0.5 in /usr/local/lib/python3.10/dist-packages (from tensorboard<2.16,>=2.15->tensorflow) (1.2.0)\n",
            "Requirement already satisfied: markdown>=2.6.8 in /usr/local/lib/python3.10/dist-packages (from tensorboard<2.16,>=2.15->tensorflow) (3.6)\n",
            "Requirement already satisfied: requests<3,>=2.21.0 in /usr/local/lib/python3.10/dist-packages (from tensorboard<2.16,>=2.15->tensorflow) (2.31.0)\n",
            "Requirement already satisfied: tensorboard-data-server<0.8.0,>=0.7.0 in /usr/local/lib/python3.10/dist-packages (from tensorboard<2.16,>=2.15->tensorflow) (0.7.2)\n",
            "Requirement already satisfied: werkzeug>=1.0.1 in /usr/local/lib/python3.10/dist-packages (from tensorboard<2.16,>=2.15->tensorflow) (3.0.1)\n",
            "Requirement already satisfied: cachetools<6.0,>=2.0.0 in /usr/local/lib/python3.10/dist-packages (from google-auth<3,>=1.6.3->tensorboard<2.16,>=2.15->tensorflow) (5.3.3)\n",
            "Requirement already satisfied: pyasn1-modules>=0.2.1 in /usr/local/lib/python3.10/dist-packages (from google-auth<3,>=1.6.3->tensorboard<2.16,>=2.15->tensorflow) (0.3.0)\n",
            "Requirement already satisfied: rsa<5,>=3.1.4 in /usr/local/lib/python3.10/dist-packages (from google-auth<3,>=1.6.3->tensorboard<2.16,>=2.15->tensorflow) (4.9)\n",
            "Requirement already satisfied: requests-oauthlib>=0.7.0 in /usr/local/lib/python3.10/dist-packages (from google-auth-oauthlib<2,>=0.5->tensorboard<2.16,>=2.15->tensorflow) (1.4.0)\n",
            "Requirement already satisfied: charset-normalizer<4,>=2 in /usr/local/lib/python3.10/dist-packages (from requests<3,>=2.21.0->tensorboard<2.16,>=2.15->tensorflow) (3.3.2)\n",
            "Requirement already satisfied: idna<4,>=2.5 in /usr/local/lib/python3.10/dist-packages (from requests<3,>=2.21.0->tensorboard<2.16,>=2.15->tensorflow) (3.6)\n",
            "Requirement already satisfied: urllib3<3,>=1.21.1 in /usr/local/lib/python3.10/dist-packages (from requests<3,>=2.21.0->tensorboard<2.16,>=2.15->tensorflow) (2.0.7)\n",
            "Requirement already satisfied: certifi>=2017.4.17 in /usr/local/lib/python3.10/dist-packages (from requests<3,>=2.21.0->tensorboard<2.16,>=2.15->tensorflow) (2024.2.2)\n",
            "Requirement already satisfied: MarkupSafe>=2.1.1 in /usr/local/lib/python3.10/dist-packages (from werkzeug>=1.0.1->tensorboard<2.16,>=2.15->tensorflow) (2.1.5)\n",
            "Requirement already satisfied: pyasn1<0.6.0,>=0.4.6 in /usr/local/lib/python3.10/dist-packages (from pyasn1-modules>=0.2.1->google-auth<3,>=1.6.3->tensorboard<2.16,>=2.15->tensorflow) (0.5.1)\n",
            "Requirement already satisfied: oauthlib>=3.0.0 in /usr/local/lib/python3.10/dist-packages (from requests-oauthlib>=0.7.0->google-auth-oauthlib<2,>=0.5->tensorboard<2.16,>=2.15->tensorflow) (3.2.2)\n"
          ]
        }
      ]
    },
    {
      "cell_type": "code",
      "source": [
        "pip install keras"
      ],
      "metadata": {
        "id": "WwHeYVYL-3gj",
        "outputId": "0af00b6b-d538-41cf-e794-7ea1ce780a2c",
        "colab": {
          "base_uri": "https://localhost:8080/"
        }
      },
      "execution_count": null,
      "outputs": [
        {
          "output_type": "stream",
          "name": "stdout",
          "text": [
            "Requirement already satisfied: keras in /usr/local/lib/python3.10/dist-packages (2.15.0)\n"
          ]
        }
      ]
    },
    {
      "cell_type": "code",
      "source": [
        "import tensorflow as tf\n",
        "from tensorflow.keras import models,layers\n",
        "from tensorflow.keras.preprocessing.image import ImageDataGenerator\n",
        "import matplotlib.pyplot as plt\n",
        "\n"
      ],
      "metadata": {
        "id": "zMMlTW4n--gU"
      },
      "execution_count": 1,
      "outputs": []
    },
    {
      "cell_type": "code",
      "source": [
        "import tensorflow as tf\n",
        "tf.keras.preprocessing.image_dataset_from_directory"
      ],
      "metadata": {
        "id": "dt95KPJHBugh",
        "outputId": "677578ee-64b1-475c-d596-ea5a01d91fc4",
        "colab": {
          "base_uri": "https://localhost:8080/",
          "height": 238
        }
      },
      "execution_count": 2,
      "outputs": [
        {
          "output_type": "execute_result",
          "data": {
            "text/plain": [
              "<function keras.src.utils.image_dataset.image_dataset_from_directory(directory, labels='inferred', label_mode='int', class_names=None, color_mode='rgb', batch_size=32, image_size=(256, 256), shuffle=True, seed=None, validation_split=None, subset=None, interpolation='bilinear', follow_links=False, crop_to_aspect_ratio=False, **kwargs)>"
            ],
            "text/html": [
              "<div style=\"max-width:800px; border: 1px solid var(--colab-border-color);\"><style>\n",
              "      pre.function-repr-contents {\n",
              "        overflow-x: auto;\n",
              "        padding: 8px 12px;\n",
              "        max-height: 500px;\n",
              "      }\n",
              "\n",
              "      pre.function-repr-contents.function-repr-contents-collapsed {\n",
              "        cursor: pointer;\n",
              "        max-height: 100px;\n",
              "      }\n",
              "    </style>\n",
              "    <pre style=\"white-space: initial; background:\n",
              "         var(--colab-secondary-surface-color); padding: 8px 12px;\n",
              "         border-bottom: 1px solid var(--colab-border-color);\"><b>keras.src.utils.image_dataset.image_dataset_from_directory</b><br/>def image_dataset_from_directory(directory, labels=&#x27;inferred&#x27;, label_mode=&#x27;int&#x27;, class_names=None, color_mode=&#x27;rgb&#x27;, batch_size=32, image_size=(256, 256), shuffle=True, seed=None, validation_split=None, subset=None, interpolation=&#x27;bilinear&#x27;, follow_links=False, crop_to_aspect_ratio=False, **kwargs)</pre><pre class=\"function-repr-contents function-repr-contents-collapsed\" style=\"\"><a class=\"filepath\" style=\"display:none\" href=\"#\">/usr/local/lib/python3.10/dist-packages/keras/src/utils/image_dataset.py</a>Generates a `tf.data.Dataset` from image files in a directory.\n",
              "\n",
              "If your directory structure is:\n",
              "\n",
              "```\n",
              "main_directory/\n",
              "...class_a/\n",
              "......a_image_1.jpg\n",
              "......a_image_2.jpg\n",
              "...class_b/\n",
              "......b_image_1.jpg\n",
              "......b_image_2.jpg\n",
              "```\n",
              "\n",
              "Then calling `image_dataset_from_directory(main_directory,\n",
              "labels=&#x27;inferred&#x27;)` will return a `tf.data.Dataset` that yields batches of\n",
              "images from the subdirectories `class_a` and `class_b`, together with labels\n",
              "0 and 1 (0 corresponding to `class_a` and 1 corresponding to `class_b`).\n",
              "\n",
              "Supported image formats: `.jpeg`, `.jpg`, `.png`, `.bmp`, `.gif`.\n",
              "Animated gifs are truncated to the first frame.\n",
              "\n",
              "Args:\n",
              "    directory: Directory where the data is located.\n",
              "        If `labels` is `&quot;inferred&quot;`, it should contain\n",
              "        subdirectories, each containing images for a class.\n",
              "        Otherwise, the directory structure is ignored.\n",
              "    labels: Either `&quot;inferred&quot;`\n",
              "        (labels are generated from the directory structure),\n",
              "        `None` (no labels),\n",
              "        or a list/tuple of integer labels of the same size as the number of\n",
              "        image files found in the directory. Labels should be sorted\n",
              "        according to the alphanumeric order of the image file paths\n",
              "        (obtained via `os.walk(directory)` in Python).\n",
              "    label_mode: String describing the encoding of `labels`. Options are:\n",
              "        - `&quot;int&quot;`: means that the labels are encoded as integers\n",
              "            (e.g. for `sparse_categorical_crossentropy` loss).\n",
              "        - `&quot;categorical&quot;` means that the labels are\n",
              "            encoded as a categorical vector\n",
              "            (e.g. for `categorical_crossentropy` loss).\n",
              "        - `&quot;binary&quot;` means that the labels (there can be only 2)\n",
              "            are encoded as `float32` scalars with values 0 or 1\n",
              "            (e.g. for `binary_crossentropy`).\n",
              "        - `None` (no labels).\n",
              "    class_names: Only valid if `labels` is `&quot;inferred&quot;`.\n",
              "        This is the explicit list of class names\n",
              "        (must match names of subdirectories). Used to control the order\n",
              "        of the classes (otherwise alphanumerical order is used).\n",
              "    color_mode: One of `&quot;grayscale&quot;`, `&quot;rgb&quot;`, `&quot;rgba&quot;`.\n",
              "        Defaults to `&quot;rgb&quot;`. Whether the images will be converted to\n",
              "        have 1, 3, or 4 channels.\n",
              "    batch_size: Size of the batches of data.\n",
              "        If `None`, the data will not be batched\n",
              "        (the dataset will yield individual samples). Defaults to 32.\n",
              "    image_size: Size to resize images to after they are read from disk,\n",
              "        specified as `(height, width)`.\n",
              "        Since the pipeline processes batches of images that must all have\n",
              "        the same size, this must be provided. Defaults to `(256, 256)`.\n",
              "    shuffle: Whether to shuffle the data. Defaults to `True`.\n",
              "        If set to `False`, sorts the data in alphanumeric order.\n",
              "    seed: Optional random seed for shuffling and transformations.\n",
              "    validation_split: Optional float between 0 and 1,\n",
              "        fraction of data to reserve for validation.\n",
              "    subset: Subset of the data to return.\n",
              "        One of `&quot;training&quot;`, `&quot;validation&quot;`, or `&quot;both&quot;`.\n",
              "        Only used if `validation_split` is set.\n",
              "        When `subset=&quot;both&quot;`, the utility returns a tuple of two datasets\n",
              "        (the training and validation datasets respectively).\n",
              "    interpolation: String, the interpolation method used when\n",
              "        resizing images. Defaults to `&quot;bilinear&quot;`.\n",
              "        Supports `&quot;bilinear&quot;`, `&quot;nearest&quot;`, `&quot;bicubic&quot;`, `&quot;area&quot;`,\n",
              "        `&quot;lanczos3&quot;`, `&quot;lanczos5&quot;`, `&quot;gaussian&quot;`, `&quot;mitchellcubic&quot;`.\n",
              "    follow_links: Whether to visit subdirectories pointed to by symlinks.\n",
              "        Defaults to `False`.\n",
              "    crop_to_aspect_ratio: If `True`, resize the images without aspect\n",
              "        ratio distortion. When the original aspect ratio differs from the\n",
              "        target aspect ratio, the output image will be cropped so as to\n",
              "        return the largest possible window in the image\n",
              "        (of size `image_size`) that matches the target aspect ratio. By\n",
              "        default (`crop_to_aspect_ratio=False`), aspect ratio may not be\n",
              "        preserved.\n",
              "    **kwargs: Legacy keyword arguments.\n",
              "\n",
              "Returns:\n",
              "\n",
              "A `tf.data.Dataset` object.\n",
              "\n",
              "- If `label_mode` is `None`, it yields `float32` tensors of shape\n",
              "    `(batch_size, image_size[0], image_size[1], num_channels)`,\n",
              "    encoding images (see below for rules regarding `num_channels`).\n",
              "- Otherwise, it yields a tuple `(images, labels)`, where `images` has\n",
              "    shape `(batch_size, image_size[0], image_size[1], num_channels)`,\n",
              "    and `labels` follows the format described below.\n",
              "\n",
              "Rules regarding labels format:\n",
              "\n",
              "- if `label_mode` is `&quot;int&quot;`, the labels are an `int32` tensor of shape\n",
              "    `(batch_size,)`.\n",
              "- if `label_mode` is `&quot;binary&quot;`, the labels are a `float32` tensor of\n",
              "    1s and 0s of shape `(batch_size, 1)`.\n",
              "- if `label_mode` is `&quot;categorical&quot;`, the labels are a `float32` tensor\n",
              "    of shape `(batch_size, num_classes)`, representing a one-hot\n",
              "    encoding of the class index.\n",
              "\n",
              "Rules regarding number of channels in the yielded images:\n",
              "\n",
              "- if `color_mode` is `&quot;grayscale&quot;`,\n",
              "    there&#x27;s 1 channel in the image tensors.\n",
              "- if `color_mode` is `&quot;rgb&quot;`,\n",
              "    there are 3 channels in the image tensors.\n",
              "- if `color_mode` is `&quot;rgba&quot;`,\n",
              "    there are 4 channels in the image tensors.</pre>\n",
              "      <script>\n",
              "      if (google.colab.kernel.accessAllowed && google.colab.files && google.colab.files.view) {\n",
              "        for (const element of document.querySelectorAll('.filepath')) {\n",
              "          element.style.display = 'block'\n",
              "          element.onclick = (event) => {\n",
              "            event.preventDefault();\n",
              "            event.stopPropagation();\n",
              "            google.colab.files.view(element.textContent, 30);\n",
              "          };\n",
              "        }\n",
              "      }\n",
              "      for (const element of document.querySelectorAll('.function-repr-contents')) {\n",
              "        element.onclick = (event) => {\n",
              "          event.preventDefault();\n",
              "          event.stopPropagation();\n",
              "          element.classList.toggle('function-repr-contents-collapsed');\n",
              "        };\n",
              "      }\n",
              "      </script>\n",
              "      </div>"
            ]
          },
          "metadata": {},
          "execution_count": 2
        }
      ]
    },
    {
      "cell_type": "code",
      "source": [
        "from google.colab import drive\n",
        "drive.mount('/content/gdrive')"
      ],
      "metadata": {
        "colab": {
          "base_uri": "https://localhost:8080/"
        },
        "id": "9YxLfEj5wUDD",
        "outputId": "86fcea1b-1d2a-48b0-b6a9-90aeec840b7f"
      },
      "execution_count": 3,
      "outputs": [
        {
          "output_type": "stream",
          "name": "stdout",
          "text": [
            "Mounted at /content/gdrive\n"
          ]
        }
      ]
    },
    {
      "cell_type": "code",
      "source": [
        "!pip show tensorflow"
      ],
      "metadata": {
        "id": "Bsu4x1vABiO1",
        "outputId": "87be5920-01ed-490e-deb3-ec39a6f0e4e6",
        "colab": {
          "base_uri": "https://localhost:8080/"
        }
      },
      "execution_count": 77,
      "outputs": [
        {
          "output_type": "stream",
          "name": "stdout",
          "text": [
            "Name: tensorflow\n",
            "Version: 2.15.0\n",
            "Summary: TensorFlow is an open source machine learning framework for everyone.\n",
            "Home-page: https://www.tensorflow.org/\n",
            "Author: Google Inc.\n",
            "Author-email: packages@tensorflow.org\n",
            "License: Apache 2.0\n",
            "Location: /usr/local/lib/python3.10/dist-packages\n",
            "Requires: absl-py, astunparse, flatbuffers, gast, google-pasta, grpcio, h5py, keras, libclang, ml-dtypes, numpy, opt-einsum, packaging, protobuf, setuptools, six, tensorboard, tensorflow-estimator, tensorflow-io-gcs-filesystem, termcolor, typing-extensions, wrapt\n",
            "Required-by: dopamine-rl, tf_keras\n"
          ]
        }
      ]
    },
    {
      "cell_type": "markdown",
      "source": [
        "**Image Preprocessing**"
      ],
      "metadata": {
        "id": "52ooBHVDEaK3"
      }
    },
    {
      "cell_type": "code",
      "source": [
        "validation_set = tf.keras.utils.image_dataset_from_directory(\n",
        "    '/content/drive/MyDrive/Plant disease/Validation/Validation',\n",
        "    labels=\"inferred\",\n",
        "    label_mode=\"categorical\",\n",
        "    class_names=None,\n",
        "    color_mode=\"rgb\",\n",
        "    batch_size=32,\n",
        "    image_size=(128, 128),\n",
        "    shuffle=True,\n",
        "    seed=None,\n",
        "    validation_split=None,\n",
        "    subset=None,\n",
        "    interpolation=\"bilinear\",\n",
        "    follow_links=False,\n",
        "    crop_to_aspect_ratio=False\n",
        ")\n",
        "class_name = validation_set.class_names\n",
        "print(class_name)"
      ],
      "metadata": {
        "id": "l8TL0K6R_bbV",
        "outputId": "86372e43-b8c8-4917-fe2c-c3a470a98ee4",
        "colab": {
          "base_uri": "https://localhost:8080/"
        }
      },
      "execution_count": 5,
      "outputs": [
        {
          "output_type": "stream",
          "name": "stdout",
          "text": [
            "Found 60 files belonging to 3 classes.\n",
            "['Healthy', 'Powdery', 'Rust']\n"
          ]
        }
      ]
    },
    {
      "cell_type": "code",
      "source": [
        "from google.colab import drive\n",
        "drive.mount('/content/drive')"
      ],
      "metadata": {
        "colab": {
          "base_uri": "https://localhost:8080/"
        },
        "id": "XubanwngaIMh",
        "outputId": "b4706bd4-03b7-421e-d99d-cc340c17c144"
      },
      "execution_count": 4,
      "outputs": [
        {
          "output_type": "stream",
          "name": "stdout",
          "text": [
            "Mounted at /content/drive\n"
          ]
        }
      ]
    },
    {
      "cell_type": "code",
      "source": [
        "train_set = tf.keras.utils.image_dataset_from_directory(\n",
        "    '/content/drive/MyDrive/Plant disease/Train',\n",
        "    labels=\"inferred\",\n",
        "    label_mode=\"categorical\",\n",
        "    # healthy is a subdirectory name which becomes the label mode\n",
        "    #since more than two labels are present we cannot use label_mode=binary\n",
        "    class_names=None,\n",
        "    color_mode=\"rgb\",\n",
        "    batch_size=32,\n",
        "    #at each iteration take 32 images\n",
        "    image_size=(128, 128),\n",
        "    shuffle=True,\n",
        "    seed=None,\n",
        "    validation_split=None,\n",
        "    subset=None,\n",
        "    interpolation=\"bilinear\",\n",
        "    follow_links=False,\n",
        "    crop_to_aspect_ratio=False\n",
        ")\n",
        "class_name = train_set.class_names\n",
        "print(class_name)"
      ],
      "metadata": {
        "colab": {
          "base_uri": "https://localhost:8080/"
        },
        "id": "N6AT1wLyiyX4",
        "outputId": "6ac2dec3-325d-469d-9f2b-f2465c20049a"
      },
      "execution_count": 6,
      "outputs": [
        {
          "output_type": "stream",
          "name": "stdout",
          "text": [
            "Found 1322 files belonging to 3 classes.\n",
            "['Healthy', 'Powdery', 'Rust']\n"
          ]
        }
      ]
    },
    {
      "cell_type": "code",
      "source": [
        "for x,y in validation_set:\n",
        "  print(x,x.shape)\n",
        "  print(y,y.shape)\n",
        "  break"
      ],
      "metadata": {
        "colab": {
          "base_uri": "https://localhost:8080/"
        },
        "id": "fnRbB9UoXx47",
        "outputId": "1400df13-8552-4be0-91a3-8f7f9b65df03"
      },
      "execution_count": 7,
      "outputs": [
        {
          "output_type": "stream",
          "name": "stdout",
          "text": [
            "tf.Tensor(\n",
            "[[[[198.75     228.625    166.375   ]\n",
            "   [183.1875   214.1875   144.9375  ]\n",
            "   [164.60156  195.60156  138.60156 ]\n",
            "   ...\n",
            "   [112.0625   167.125    134.9375  ]\n",
            "   [ 91.75     147.75     102.75    ]\n",
            "   [ 95.84375  152.71875  111.96875 ]]\n",
            "\n",
            "  [[217.60156  241.22656  183.30469 ]\n",
            "   [210.625    236.       168.82812 ]\n",
            "   [172.11719  197.11719  142.11719 ]\n",
            "   ...\n",
            "   [120.25     178.25     153.25    ]\n",
            "   [115.515625 168.51562  125.265625]\n",
            "   [119.14844  175.02344  136.02344 ]]\n",
            "\n",
            "  [[216.03906  236.03906  183.03906 ]\n",
            "   [211.625    230.625    175.625   ]\n",
            "   [181.63281  199.63281  147.63281 ]\n",
            "   ...\n",
            "   [132.88281  190.88281  166.50781 ]\n",
            "   [132.0625   185.0625   141.8125  ]\n",
            "   [123.96094  178.96094  139.58594 ]]\n",
            "\n",
            "  ...\n",
            "\n",
            "  [[ 77.265625 105.015625  44.015625]\n",
            "   [101.39844  141.57812   72.16406 ]\n",
            "   [ 79.       133.        47.      ]\n",
            "   ...\n",
            "   [ 97.80469  124.80469   89.80469 ]\n",
            "   [107.63281  134.82812   89.24219 ]\n",
            "   [102.27344  147.67188   82.796875]]\n",
            "\n",
            "  [[ 98.11719  139.15625   73.53125 ]\n",
            "   [ 91.67969  132.3125    62.242188]\n",
            "   [ 86.1875   139.1875    49.1875  ]\n",
            "   ...\n",
            "   [ 90.546875 124.546875  91.546875]\n",
            "   [ 88.6875   126.9375    71.0625  ]\n",
            "   [ 86.9375   140.9375    63.515625]]\n",
            "\n",
            "  [[ 88.4375   136.6875    76.8125  ]\n",
            "   [ 98.25     148.21094   79.328125]\n",
            "   [ 94.58594  139.58594   56.585938]\n",
            "   ...\n",
            "   [ 86.       123.        81.953125]\n",
            "   [ 82.5625   127.1875    62.9375  ]\n",
            "   [ 89.359375 143.35938   65.359375]]]\n",
            "\n",
            "\n",
            " [[[ 31.578125  46.828125  13.078125]\n",
            "   [ 34.0625    49.0625    16.0625  ]\n",
            "   [ 32.4375    48.4375     9.9375  ]\n",
            "   ...\n",
            "   [112.84375  140.34375   59.09375 ]\n",
            "   [104.890625 134.89062   60.890625]\n",
            "   [203.95312  225.79688  127.875   ]]\n",
            "\n",
            "  [[ 31.453125  47.953125  14.203125]\n",
            "   [ 24.703125  39.703125   6.703125]\n",
            "   [ 30.25      45.25      12.25    ]\n",
            "   ...\n",
            "   [130.35938  163.29688   76.421875]\n",
            "   [219.90625  231.04688  137.      ]\n",
            "   [200.98438  224.84375  129.23438 ]]\n",
            "\n",
            "  [[ 33.46875   48.96875   13.21875 ]\n",
            "   [ 29.484375  44.484375  11.484375]\n",
            "   [ 33.171875  49.171875  13.171875]\n",
            "   ...\n",
            "   [156.57812  195.57812   89.578125]\n",
            "   [149.4375   188.21875   80.015625]\n",
            "   [134.95312  145.45312   84.203125]]\n",
            "\n",
            "  ...\n",
            "\n",
            "  [[191.10938  198.60938  112.390625]\n",
            "   [203.875    215.875    117.875   ]\n",
            "   [178.84375  195.5625   101.703125]\n",
            "   ...\n",
            "   [ 19.546875  28.546875  25.546875]\n",
            "   [ 13.        21.        23.      ]\n",
            "   [ 13.765625  23.515625  24.015625]]\n",
            "\n",
            "  [[216.125    230.125    133.125   ]\n",
            "   [223.       252.       144.      ]\n",
            "   [176.46875  214.46875  111.46875 ]\n",
            "   ...\n",
            "   [ 18.296875  28.296875  19.296875]\n",
            "   [ 10.84375   19.84375   16.84375 ]\n",
            "   [ 19.53125   24.640625  21.15625 ]]\n",
            "\n",
            "  [[230.78125  238.28125  127.53125 ]\n",
            "   [227.25     255.       143.5     ]\n",
            "   [217.67188  250.17188  140.42188 ]\n",
            "   ...\n",
            "   [ 36.296875  44.296875  33.296875]\n",
            "   [ 30.        37.        29.      ]\n",
            "   [ 13.671875  18.671875  13.171875]]]\n",
            "\n",
            "\n",
            " [[[ 64.921875 118.296875  73.921875]\n",
            "   [ 86.       139.        93.      ]\n",
            "   [ 58.484375 115.484375  60.484375]\n",
            "   ...\n",
            "   [ 84.39844  149.39844   83.39844 ]\n",
            "   [ 62.703125 117.328125  59.328125]\n",
            "   [ 69.77344  119.52344   66.64844 ]]\n",
            "\n",
            "  [[ 69.       122.375     78.      ]\n",
            "   [ 75.50781  131.50781   82.50781 ]\n",
            "   [ 55.382812 118.38281   65.38281 ]\n",
            "   ...\n",
            "   [ 70.25     135.25      71.25    ]\n",
            "   [ 63.617188 117.22656   61.296875]\n",
            "   [ 74.39844  127.39844   75.35156 ]]\n",
            "\n",
            "  [[ 76.64844  132.64844   87.64844 ]\n",
            "   [ 74.94531  128.94531   78.94531 ]\n",
            "   [ 78.44531  132.44531   82.44531 ]\n",
            "   ...\n",
            "   [ 63.164062 125.10156   67.16406 ]\n",
            "   [ 79.265625 137.26562   79.265625]\n",
            "   [ 88.453125 144.45312   95.453125]]\n",
            "\n",
            "  ...\n",
            "\n",
            "  [[ 42.976562  83.35156   56.226562]\n",
            "   [ 48.046875  92.046875  57.046875]\n",
            "   [ 37.296875  82.41406   47.5     ]\n",
            "   ...\n",
            "   [106.375    155.75     105.0625  ]\n",
            "   [ 71.390625 132.39062   75.390625]\n",
            "   [ 62.078125 123.453125  64.203125]]\n",
            "\n",
            "  [[ 45.789062  85.78906   51.789062]\n",
            "   [ 44.296875  84.36719   47.15625 ]\n",
            "   [ 27.101562  65.10156   28.101562]\n",
            "   ...\n",
            "   [124.625    172.64062  126.13281 ]\n",
            "   [ 88.609375 146.13281   81.375   ]\n",
            "   [ 78.828125 134.66406   69.66406 ]]\n",
            "\n",
            "  [[ 43.578125  84.578125  42.578125]\n",
            "   [ 35.34375   73.34375   34.34375 ]\n",
            "   [ 32.164062  69.16406   35.164062]\n",
            "   ...\n",
            "   [125.9375   172.9375   128.9375  ]\n",
            "   [102.3125   157.3125    91.0625  ]\n",
            "   [ 77.99219  130.36719   65.88281 ]]]\n",
            "\n",
            "\n",
            " ...\n",
            "\n",
            "\n",
            " [[[ 93.125    146.125     78.125   ]\n",
            "   [138.21875  185.21875  107.21875 ]\n",
            "   [102.625    157.625     74.625   ]\n",
            "   ...\n",
            "   [ 67.84375  118.65625   61.75    ]\n",
            "   [ 69.25     117.25      59.25    ]\n",
            "   [ 68.75     116.75      54.75    ]]\n",
            "\n",
            "  [[108.65625  159.84375   92.75    ]\n",
            "   [151.875    195.875    118.4375  ]\n",
            "   [ 80.40625  146.40625   74.40625 ]\n",
            "   ...\n",
            "   [ 54.25     103.25      56.25    ]\n",
            "   [ 48.34375  101.34375   46.84375 ]\n",
            "   [ 53.25     104.25      48.25    ]]\n",
            "\n",
            "  [[133.53125  176.65625  112.28125 ]\n",
            "   [155.90625  197.90625  124.09375 ]\n",
            "   [ 72.25     134.25      67.25    ]\n",
            "   ...\n",
            "   [ 55.       103.        63.      ]\n",
            "   [ 51.       103.        57.      ]\n",
            "   [ 53.       108.        50.625   ]]\n",
            "\n",
            "  ...\n",
            "\n",
            "  [[ 77.375    132.375     67.375   ]\n",
            "   [ 66.5      121.5       66.4375  ]\n",
            "   [ 74.       122.        80.      ]\n",
            "   ...\n",
            "   [ 48.       103.        35.      ]\n",
            "   [ 49.       103.        41.      ]\n",
            "   [ 51.       104.        50.      ]]\n",
            "\n",
            "  [[ 64.875    123.125     54.75    ]\n",
            "   [ 66.75     122.75      57.75    ]\n",
            "   [ 64.03125  124.03125   53.53125 ]\n",
            "   ...\n",
            "   [ 49.03125  104.03125   36.03125 ]\n",
            "   [ 50.       106.        45.      ]\n",
            "   [ 56.09375  105.71875   57.46875 ]]\n",
            "\n",
            "  [[ 64.       124.        50.      ]\n",
            "   [ 59.84375  119.84375   49.84375 ]\n",
            "   [ 65.125    125.125     51.125   ]\n",
            "   ...\n",
            "   [ 52.       107.        42.      ]\n",
            "   [ 52.       107.        49.      ]\n",
            "   [ 58.       105.        59.75    ]]]\n",
            "\n",
            "\n",
            " [[[ 91.5       90.        96.25    ]\n",
            "   [ 93.5       85.25     126.75    ]\n",
            "   [ 61.5       81.5       80.25    ]\n",
            "   ...\n",
            "   [132.       160.       122.      ]\n",
            "   [139.       164.       125.      ]\n",
            "   [135.       160.       118.      ]]\n",
            "\n",
            "  [[103.       114.       109.5     ]\n",
            "   [114.5      139.75     133.      ]\n",
            "   [113.       141.75     141.      ]\n",
            "   ...\n",
            "   [123.       155.       114.      ]\n",
            "   [133.       158.       116.      ]\n",
            "   [132.25     157.25     115.25    ]]\n",
            "\n",
            "  [[ 45.5       70.5       31.25    ]\n",
            "   [108.75      96.75     134.75    ]\n",
            "   [ 88.75     116.75     102.75    ]\n",
            "   ...\n",
            "   [130.       158.       118.      ]\n",
            "   [129.       157.       117.      ]\n",
            "   [129.       156.       115.      ]]\n",
            "\n",
            "  ...\n",
            "\n",
            "  [[134.       165.       160.      ]\n",
            "   [137.       166.       161.      ]\n",
            "   [110.5      142.5      129.5     ]\n",
            "   ...\n",
            "   [ 83.       116.        69.      ]\n",
            "   [ 84.       116.        69.      ]\n",
            "   [ 89.25     117.25      76.25    ]]\n",
            "\n",
            "  [[137.       166.       161.      ]\n",
            "   [121.75     152.75     134.75    ]\n",
            "   [ 67.75      94.75      79.75    ]\n",
            "   ...\n",
            "   [ 76.       107.        66.      ]\n",
            "   [ 80.       106.        67.      ]\n",
            "   [ 90.25     118.25      78.25    ]]\n",
            "\n",
            "  [[129.       159.       147.5     ]\n",
            "   [ 92.5      116.5      102.5     ]\n",
            "   [ 57.        76.        74.      ]\n",
            "   ...\n",
            "   [ 67.        91.        59.      ]\n",
            "   [ 78.        99.        66.      ]\n",
            "   [ 86.25     117.5       72.75    ]]]\n",
            "\n",
            "\n",
            " [[[ 71.40625  109.40625   34.40625 ]\n",
            "   [ 68.90625  108.90625   35.90625 ]\n",
            "   [ 73.625    115.625     31.625   ]\n",
            "   ...\n",
            "   [ 36.        50.        24.      ]\n",
            "   [ 41.        57.        28.      ]\n",
            "   [ 52.15625   67.15625   36.15625 ]]\n",
            "\n",
            "  [[ 84.375    122.625     42.5625  ]\n",
            "   [ 68.34375  109.34375   32.65625 ]\n",
            "   [ 73.96875  112.96875   33.96875 ]\n",
            "   ...\n",
            "   [ 35.25      49.25      23.25    ]\n",
            "   [ 44.09375   60.09375   32.84375 ]\n",
            "   [ 54.28125   71.28125   37.28125 ]]\n",
            "\n",
            "  [[ 80.5      119.75      46.75    ]\n",
            "   [ 70.90625  108.90625   33.90625 ]\n",
            "   [ 68.75     110.75      38.75    ]\n",
            "   ...\n",
            "   [ 35.46875   50.46875   27.46875 ]\n",
            "   [ 47.875     64.875     32.875   ]\n",
            "   [ 58.09375   75.09375   43.09375 ]]\n",
            "\n",
            "  ...\n",
            "\n",
            "  [[115.375    142.6875    87.53125 ]\n",
            "   [112.59375  139.65625   76.3125  ]\n",
            "   [ 90.84375  133.84375   62.84375 ]\n",
            "   ...\n",
            "   [117.40625  146.40625   66.40625 ]\n",
            "   [116.       147.        67.      ]\n",
            "   [116.46875  144.46875   67.46875 ]]\n",
            "\n",
            "  [[101.       136.5       73.25    ]\n",
            "   [ 84.5      126.4375    60.71875 ]\n",
            "   [114.03125  139.125     74.125   ]\n",
            "   ...\n",
            "   [127.25     154.25      75.25    ]\n",
            "   [126.25     154.25      77.25    ]\n",
            "   [123.71875  151.71875   74.71875 ]]\n",
            "\n",
            "  [[114.125    143.71875   84.      ]\n",
            "   [106.71875  142.71875   81.71875 ]\n",
            "   [111.25     142.59375   71.5     ]\n",
            "   ...\n",
            "   [136.75     162.75      88.75    ]\n",
            "   [134.       162.        87.      ]\n",
            "   [132.       158.        84.      ]]]], shape=(32, 128, 128, 3), dtype=float32) (32, 128, 128, 3)\n",
            "tf.Tensor(\n",
            "[[1. 0. 0.]\n",
            " [0. 0. 1.]\n",
            " [1. 0. 0.]\n",
            " [1. 0. 0.]\n",
            " [0. 1. 0.]\n",
            " [1. 0. 0.]\n",
            " [1. 0. 0.]\n",
            " [0. 1. 0.]\n",
            " [0. 0. 1.]\n",
            " [0. 1. 0.]\n",
            " [0. 1. 0.]\n",
            " [0. 0. 1.]\n",
            " [0. 0. 1.]\n",
            " [0. 1. 0.]\n",
            " [0. 0. 1.]\n",
            " [0. 1. 0.]\n",
            " [0. 1. 0.]\n",
            " [1. 0. 0.]\n",
            " [1. 0. 0.]\n",
            " [0. 1. 0.]\n",
            " [1. 0. 0.]\n",
            " [0. 1. 0.]\n",
            " [1. 0. 0.]\n",
            " [1. 0. 0.]\n",
            " [0. 1. 0.]\n",
            " [1. 0. 0.]\n",
            " [0. 0. 1.]\n",
            " [1. 0. 0.]\n",
            " [0. 0. 1.]\n",
            " [0. 0. 1.]\n",
            " [0. 0. 1.]\n",
            " [0. 0. 1.]], shape=(32, 3), dtype=float32) (32, 3)\n"
          ]
        }
      ]
    },
    {
      "cell_type": "code",
      "source": [
        "for x,y in train_set:\n",
        "  print(x,x.shape)\n",
        "  print(y,y.shape)\n",
        "  break"
      ],
      "metadata": {
        "colab": {
          "base_uri": "https://localhost:8080/"
        },
        "id": "Hry_EOE5Z-jR",
        "outputId": "9a138616-cfec-4771-dd86-37973286ea40"
      },
      "execution_count": 8,
      "outputs": [
        {
          "output_type": "stream",
          "name": "stdout",
          "text": [
            "tf.Tensor(\n",
            "[[[[ 87.234375 132.23438   64.984375]\n",
            "   [ 86.39844  133.39844   55.398438]\n",
            "   [ 85.625    132.625     52.625   ]\n",
            "   ...\n",
            "   [149.5625   189.5625   101.5625  ]\n",
            "   [151.875    190.875    109.875   ]\n",
            "   [156.10938  194.23438  116.734375]]\n",
            "\n",
            "  [[ 84.91406  130.91406   58.789062]\n",
            "   [ 87.57031  134.57031   56.570312]\n",
            "   [ 84.50781  131.50781   51.507812]\n",
            "   ...\n",
            "   [148.46094  187.46094  104.46094 ]\n",
            "   [151.11719  190.11719  107.11719 ]\n",
            "   [155.03125  194.03125  113.359375]]\n",
            "\n",
            "  [[ 77.171875 126.171875  46.921875]\n",
            "   [ 85.05469  132.05469   51.054688]\n",
            "   [ 84.84375  131.84375   50.84375 ]\n",
            "   ...\n",
            "   [150.6875   189.6875   106.6875  ]\n",
            "   [151.49219  193.49219  109.49219 ]\n",
            "   [158.67188  198.67188  112.671875]]\n",
            "\n",
            "  ...\n",
            "\n",
            "  [[ 91.86719  129.90625   89.99219 ]\n",
            "   [102.11719  141.49219   83.24219 ]\n",
            "   [ 83.125    127.125     51.375   ]\n",
            "   ...\n",
            "   [120.375    155.375     97.375   ]\n",
            "   [124.       162.       101.      ]\n",
            "   [126.75781  166.50781  104.88281 ]]\n",
            "\n",
            "  [[ 88.765625 128.71875   78.49219 ]\n",
            "   [ 84.546875 126.47656   54.617188]\n",
            "   [ 75.38281  119.38281   44.382812]\n",
            "   ...\n",
            "   [128.47656  170.86719  114.86719 ]\n",
            "   [138.375    179.375    119.375   ]\n",
            "   [150.98438  196.03125  130.63281 ]]\n",
            "\n",
            "  [[ 95.82031  137.46094   74.890625]\n",
            "   [ 80.91406  123.91406   51.914062]\n",
            "   [ 85.6875   129.6875    52.6875  ]\n",
            "   ...\n",
            "   [177.07812  217.95312  160.14062 ]\n",
            "   [194.26562  233.1875   176.35156 ]\n",
            "   [209.64844  244.77344  190.82812 ]]]\n",
            "\n",
            "\n",
            " [[[ 97.765625 161.76562  145.76562 ]\n",
            "   [107.60156  169.60156  154.60156 ]\n",
            "   [126.72656  189.72656  172.72656 ]\n",
            "   ...\n",
            "   [157.47656  216.47656  162.47656 ]\n",
            "   [152.96094  213.96094  156.96094 ]\n",
            "   [147.64062  206.64062  150.39062 ]]\n",
            "\n",
            "  [[100.96875  163.21875  148.09375 ]\n",
            "   [103.859375 167.25     151.55469 ]\n",
            "   [134.63281  191.63281  172.63281 ]\n",
            "   ...\n",
            "   [163.3125   221.3125   171.3125  ]\n",
            "   [158.       217.69531  163.69531 ]\n",
            "   [151.35156  210.39062  156.76562 ]]\n",
            "\n",
            "  [[ 91.09375  153.04688  137.88281 ]\n",
            "   [114.63281  171.63281  156.63281 ]\n",
            "   [122.74219  179.74219  164.74219 ]\n",
            "   ...\n",
            "   [161.14062  219.14062  171.14062 ]\n",
            "   [164.20312  222.20312  172.20312 ]\n",
            "   [147.46094  200.85938  153.66406 ]]\n",
            "\n",
            "  ...\n",
            "\n",
            "  [[168.3125   179.03906  145.28906 ]\n",
            "   [163.0625   178.0625   147.0625  ]\n",
            "   [146.82812  165.82812  135.82812 ]\n",
            "   ...\n",
            "   [ 49.601562 109.60156   97.60156 ]\n",
            "   [ 51.351562 107.35156   94.35156 ]\n",
            "   [ 51.890625 108.765625  94.015625]]\n",
            "\n",
            "  [[167.625    178.59375  144.16406 ]\n",
            "   [152.125    169.125    137.125   ]\n",
            "   [120.734375 140.73438  113.42969 ]\n",
            "   ...\n",
            "   [ 44.4375   104.4375    94.4375  ]\n",
            "   [ 50.148438 109.39844   97.39844 ]\n",
            "   [ 44.414062 107.640625  91.953125]]\n",
            "\n",
            "  [[150.07031  165.32031  132.21094 ]\n",
            "   [144.60938  163.60938  131.60938 ]\n",
            "   [132.76562  153.76562  122.765625]\n",
            "   ...\n",
            "   [ 39.054688  98.9375    88.97656 ]\n",
            "   [ 40.8125   101.9375    93.875   ]\n",
            "   [ 65.625    127.63281  114.64844 ]]]\n",
            "\n",
            "\n",
            " [[[117.50781  163.38281  134.38281 ]\n",
            "   [117.97656  162.97656  133.97656 ]\n",
            "   [115.25     161.25     132.25    ]\n",
            "   ...\n",
            "   [103.375    141.375     84.375   ]\n",
            "   [105.0625   141.0625    93.0625  ]\n",
            "   [114.27344  144.14844   94.39844 ]]\n",
            "\n",
            "  [[120.41406  166.28906  137.28906 ]\n",
            "   [125.1875   171.1875   142.1875  ]\n",
            "   [119.75     164.75     135.75    ]\n",
            "   ...\n",
            "   [100.375    138.375     81.375   ]\n",
            "   [108.11719  144.92969   94.49219 ]\n",
            "   [111.60156  143.35938   94.27344 ]]\n",
            "\n",
            "  [[124.140625 169.14062  139.89062 ]\n",
            "   [125.6875   170.6875   139.6875  ]\n",
            "   [124.11719  169.11719  138.11719 ]\n",
            "   ...\n",
            "   [ 96.57031  134.57031   77.57031 ]\n",
            "   [ 98.19531  135.19531   83.19531 ]\n",
            "   [108.890625 141.76562   89.140625]]\n",
            "\n",
            "  ...\n",
            "\n",
            "  [[ 58.34375  112.59375   24.46875 ]\n",
            "   [ 55.3125   111.3125    22.3125  ]\n",
            "   [ 54.546875 108.546875  24.546875]\n",
            "   ...\n",
            "   [125.375    165.375    103.375   ]\n",
            "   [122.92969  163.55469   98.67969 ]\n",
            "   [118.828125 158.82812   88.453125]]\n",
            "\n",
            "  [[ 60.828125 115.828125  24.78125 ]\n",
            "   [ 54.632812 108.63281   22.632812]\n",
            "   [ 63.1875   115.625     27.8125  ]\n",
            "   ...\n",
            "   [127.75     165.75     106.75    ]\n",
            "   [122.5625   160.5625    99.5625  ]\n",
            "   [113.77344  152.77344   89.77344 ]]\n",
            "\n",
            "  [[ 55.789062 111.78906   23.039062]\n",
            "   [ 51.5625   105.5625    17.5625  ]\n",
            "   [ 62.601562 111.60156   22.601562]\n",
            "   ...\n",
            "   [130.71094  168.71094  111.71094 ]\n",
            "   [122.421875 160.42188   99.546875]\n",
            "   [117.71875  153.96875   92.96875 ]]]\n",
            "\n",
            "\n",
            " ...\n",
            "\n",
            "\n",
            " [[[101.125    136.125     54.125   ]\n",
            "   [103.4375   138.4375    56.4375  ]\n",
            "   [ 99.375    134.375     52.375   ]\n",
            "   ...\n",
            "   [104.41406  145.41406   68.71094 ]\n",
            "   [102.75     146.75      61.75    ]\n",
            "   [105.22656  148.35156   59.351562]]\n",
            "\n",
            "  [[103.78906  142.41406   51.539062]\n",
            "   [103.92969  140.74219   48.304688]\n",
            "   [101.32031  136.32031   52.320312]\n",
            "   ...\n",
            "   [101.0625   143.0625    61.0625  ]\n",
            "   [102.       144.        60.      ]\n",
            "   [105.34375  145.29688   56.648438]]\n",
            "\n",
            "  [[108.359375 143.35938   51.109375]\n",
            "   [109.9375   143.6875    52.3125  ]\n",
            "   [104.49219  143.17969   54.804688]\n",
            "   ...\n",
            "   [103.625    142.625     59.625   ]\n",
            "   [104.828125 146.82812   64.828125]\n",
            "   [104.3125   146.3125    64.3125  ]]\n",
            "\n",
            "  ...\n",
            "\n",
            "  [[ 64.546875 105.921875  45.625   ]\n",
            "   [ 60.234375 105.234375  36.625   ]\n",
            "   [ 96.71094  128.28125   52.398438]\n",
            "   ...\n",
            "   [ 50.0625    93.0625    22.0625  ]\n",
            "   [ 53.882812  96.88281   27.882812]\n",
            "   [ 55.96875   97.421875  23.945312]]\n",
            "\n",
            "  [[ 60.648438 104.875     43.820312]\n",
            "   [ 61.1875   105.1875    43.578125]\n",
            "   [ 63.1875   104.1875    36.5625  ]\n",
            "   ...\n",
            "   [ 46.875     93.875     13.875   ]\n",
            "   [ 45.921875  93.13281   25.0625  ]\n",
            "   [ 51.539062  96.53906   29.539062]]\n",
            "\n",
            "  [[ 70.94531  113.94531   60.945312]\n",
            "   [ 66.828125 108.828125  45.828125]\n",
            "   [ 62.101562 104.10156   41.101562]\n",
            "   ...\n",
            "   [ 55.335938 102.33594   24.335938]\n",
            "   [ 43.390625  91.390625  15.390625]\n",
            "   [ 46.992188  93.86719   23.492188]]]\n",
            "\n",
            "\n",
            " [[[238.75     235.5      255.      ]\n",
            "   [255.       255.       255.      ]\n",
            "   [255.       255.       255.      ]\n",
            "   ...\n",
            "   [137.5      154.5      112.5     ]\n",
            "   [101.       115.       100.      ]\n",
            "   [183.       206.       125.5     ]]\n",
            "\n",
            "  [[171.25     156.75     144.75    ]\n",
            "   [255.       255.       255.      ]\n",
            "   [255.       255.       255.      ]\n",
            "   ...\n",
            "   [156.5      183.5      114.5     ]\n",
            "   [ 89.5      136.        72.5     ]\n",
            "   [ 90.5      127.5       86.5     ]]\n",
            "\n",
            "  [[217.5      229.75     216.75    ]\n",
            "   [255.       255.       253.      ]\n",
            "   [255.       255.       255.      ]\n",
            "   ...\n",
            "   [ 94.5      133.5       70.5     ]\n",
            "   [134.5      171.25     107.5     ]\n",
            "   [123.75     154.25      86.5     ]]\n",
            "\n",
            "  ...\n",
            "\n",
            "  [[ 63.        90.75      49.75    ]\n",
            "   [ 72.       103.        61.      ]\n",
            "   [ 79.       110.        50.25    ]\n",
            "   ...\n",
            "   [ 88.25     117.25      59.25    ]\n",
            "   [ 94.       126.        59.      ]\n",
            "   [ 99.       124.        58.      ]]\n",
            "\n",
            "  [[ 70.75      98.75      57.75    ]\n",
            "   [ 77.       110.        67.      ]\n",
            "   [ 85.       116.        57.      ]\n",
            "   ...\n",
            "   [ 95.       126.        67.      ]\n",
            "   [104.75     128.75      66.75    ]\n",
            "   [114.25     138.25      76.75    ]]\n",
            "\n",
            "  [[ 77.25     105.25      64.25    ]\n",
            "   [ 76.25     107.25      65.25    ]\n",
            "   [ 87.5      120.75      60.      ]\n",
            "   ...\n",
            "   [105.       141.        71.      ]\n",
            "   [106.       135.        68.      ]\n",
            "   [136.       152.       105.      ]]]\n",
            "\n",
            "\n",
            " [[[109.703125 154.69531   27.71875 ]\n",
            "   [107.203125 149.20312   37.203125]\n",
            "   [100.5      141.4375    39.625   ]\n",
            "   ...\n",
            "   [ 77.64844  117.64844   57.648438]\n",
            "   [ 72.390625 110.390625  53.390625]\n",
            "   [ 73.625    110.75      56.375   ]]\n",
            "\n",
            "  [[122.734375 165.73438   32.734375]\n",
            "   [116.92969  157.92969   37.320312]\n",
            "   [109.91406  149.91406   35.914062]\n",
            "   ...\n",
            "   [ 78.       118.        56.609375]\n",
            "   [ 79.9375   117.9375    60.9375  ]\n",
            "   [ 71.14844  108.27344   53.898438]]\n",
            "\n",
            "  [[132.61719  177.11719   35.445312]\n",
            "   [128.67969  168.85938   37.679688]\n",
            "   [121.625    162.88281   40.367188]\n",
            "   ...\n",
            "   [ 87.015625 127.265625  69.640625]\n",
            "   [ 81.69531  119.69531   62.695312]\n",
            "   [ 76.125    114.125     57.125   ]]\n",
            "\n",
            "  ...\n",
            "\n",
            "  [[110.50781  142.50781   75.50781 ]\n",
            "   [102.078125 138.07812   66.078125]\n",
            "   [139.25     164.25      96.25    ]\n",
            "   ...\n",
            "   [173.82031  189.82031  126.82031 ]\n",
            "   [182.88281  198.88281  135.88281 ]\n",
            "   [179.49219  198.11719  134.24219 ]]\n",
            "\n",
            "  [[100.625    137.64844   67.578125]\n",
            "   [105.9375   141.9375    67.9375  ]\n",
            "   [142.49219  169.49219   98.49219 ]\n",
            "   ...\n",
            "   [170.50781  186.50781  123.50781 ]\n",
            "   [178.10938  194.10938  131.10938 ]\n",
            "   [175.40625  190.53125  131.03125 ]]\n",
            "\n",
            "  [[ 94.27344  132.27344   59.023438]\n",
            "   [109.03906  141.03906   66.03906 ]\n",
            "   [133.22656  161.22656   87.22656 ]\n",
            "   ...\n",
            "   [168.0625   184.0625   119.0625  ]\n",
            "   [171.       185.       123.      ]\n",
            "   [175.88281  190.88281  131.88281 ]]]], shape=(32, 128, 128, 3), dtype=float32) (32, 128, 128, 3)\n",
            "tf.Tensor(\n",
            "[[1. 0. 0.]\n",
            " [1. 0. 0.]\n",
            " [1. 0. 0.]\n",
            " [0. 0. 1.]\n",
            " [0. 0. 1.]\n",
            " [0. 1. 0.]\n",
            " [0. 1. 0.]\n",
            " [0. 1. 0.]\n",
            " [1. 0. 0.]\n",
            " [1. 0. 0.]\n",
            " [0. 0. 1.]\n",
            " [1. 0. 0.]\n",
            " [0. 0. 1.]\n",
            " [0. 0. 1.]\n",
            " [0. 0. 1.]\n",
            " [0. 0. 1.]\n",
            " [0. 0. 1.]\n",
            " [1. 0. 0.]\n",
            " [0. 1. 0.]\n",
            " [1. 0. 0.]\n",
            " [0. 1. 0.]\n",
            " [0. 1. 0.]\n",
            " [1. 0. 0.]\n",
            " [0. 0. 1.]\n",
            " [0. 1. 0.]\n",
            " [0. 1. 0.]\n",
            " [0. 1. 0.]\n",
            " [0. 1. 0.]\n",
            " [0. 0. 1.]\n",
            " [1. 0. 0.]\n",
            " [0. 0. 1.]\n",
            " [0. 1. 0.]], shape=(32, 3), dtype=float32) (32, 3)\n"
          ]
        }
      ]
    },
    {
      "cell_type": "markdown",
      "source": [
        "**Building Model**"
      ],
      "metadata": {
        "id": "GDQkEkcdEOWG"
      }
    },
    {
      "cell_type": "code",
      "source": [
        "from tensorflow.keras.layers import Dense,Conv2D,MaxPool2D,Flatten\n",
        "from tensorflow.keras.layers import Dropout\n",
        "from tensorflow.keras.models import Sequential"
      ],
      "metadata": {
        "id": "uUJjSuwh2TwB"
      },
      "execution_count": 24,
      "outputs": []
    },
    {
      "cell_type": "code",
      "source": [
        "model = Sequential()"
      ],
      "metadata": {
        "id": "WbO7ihO-2ulC"
      },
      "execution_count": 25,
      "outputs": []
    },
    {
      "cell_type": "code",
      "source": [
        "model.add(tf.keras.layers.Conv2D(filters=32,kernel_size=3,padding='same',activation='relu',input_shape=[128,128,3]))\n",
        "model.add(tf.keras.layers.Conv2D(filters=32,kernel_size=3,activation='relu'))\n",
        "model.add(tf.keras.layers.MaxPool2D(pool_size=2,strides=2))"
      ],
      "metadata": {
        "id": "tUFTObXFksdm"
      },
      "execution_count": 26,
      "outputs": []
    },
    {
      "cell_type": "code",
      "source": [
        "model.add(tf.keras.layers.Conv2D(filters=64,kernel_size=3,padding='same',activation='relu'))\n",
        "model.add(tf.keras.layers.Conv2D(filters=64,kernel_size=3,activation='relu'))\n",
        "model.add(tf.keras.layers.MaxPool2D(pool_size=2,strides=2))"
      ],
      "metadata": {
        "id": "XIP4bf0o1-Q9"
      },
      "execution_count": 27,
      "outputs": []
    },
    {
      "cell_type": "code",
      "source": [
        "model.add(tf.keras.layers.Conv2D(filters=128,kernel_size=3,padding='same',activation='relu'))\n",
        "model.add(tf.keras.layers.Conv2D(filters=128,kernel_size=3,activation='relu'))\n",
        "model.add(tf.keras.layers.MaxPool2D(pool_size=2,strides=2))"
      ],
      "metadata": {
        "id": "Rqjgv1Ds2C_d"
      },
      "execution_count": 28,
      "outputs": []
    },
    {
      "cell_type": "code",
      "source": [
        "model.add(tf.keras.layers.Conv2D(filters=256,kernel_size=3,padding='same',activation='relu'))\n",
        "model.add(tf.keras.layers.Conv2D(filters=256,kernel_size=3,activation='relu'))\n",
        "model.add(tf.keras.layers.MaxPool2D(pool_size=2,strides=2))"
      ],
      "metadata": {
        "id": "C5jcNRp42GMZ"
      },
      "execution_count": 29,
      "outputs": []
    },
    {
      "cell_type": "code",
      "source": [
        "model.add(tf.keras.layers.Conv2D(filters=512,kernel_size=3,padding='same',activation='relu'))\n",
        "model.add(tf.keras.layers.Conv2D(filters=512,kernel_size=3,activation='relu'))\n",
        "model.add(tf.keras.layers.MaxPool2D(pool_size=2,strides=2))"
      ],
      "metadata": {
        "id": "0Ns5V1bk2HPp"
      },
      "execution_count": 30,
      "outputs": []
    },
    {
      "cell_type": "code",
      "source": [
        "model.add((Dropout(0.25)))\n",
        "#25 percent neurons are dropped to avoid overfitting of the model"
      ],
      "metadata": {
        "id": "eVSZSfS8eK6Y"
      },
      "execution_count": 31,
      "outputs": []
    },
    {
      "cell_type": "code",
      "source": [
        "model.add(Flatten())"
      ],
      "metadata": {
        "id": "oXf2XTQNMtk5"
      },
      "execution_count": 32,
      "outputs": []
    },
    {
      "cell_type": "code",
      "source": [
        "model.add(Dense(units=1500,activation='relu'))\n",
        "#Input layer"
      ],
      "metadata": {
        "id": "bNRZPZusMxb_"
      },
      "execution_count": 33,
      "outputs": []
    },
    {
      "cell_type": "code",
      "source": [
        "model.add((Dropout(0.4)))"
      ],
      "metadata": {
        "id": "cJY4TnZXic1w"
      },
      "execution_count": 34,
      "outputs": []
    },
    {
      "cell_type": "code",
      "source": [
        "model.add(Dense(units=3,activation='softmax'))\n",
        "#Output layer"
      ],
      "metadata": {
        "id": "sQwU9lzDM6KN"
      },
      "execution_count": 35,
      "outputs": []
    },
    {
      "cell_type": "markdown",
      "source": [
        "**Compiling and Training Phase**"
      ],
      "metadata": {
        "id": "AL68-CytD-ot"
      }
    },
    {
      "cell_type": "code",
      "source": [
        "model.compile(optimizer='adam', loss ='categorical_crossentropy',metrics=['accuracy'])"
      ],
      "metadata": {
        "id": "J_42qFCl3wcK"
      },
      "execution_count": 36,
      "outputs": []
    },
    {
      "cell_type": "code",
      "source": [
        "model.summary()"
      ],
      "metadata": {
        "colab": {
          "base_uri": "https://localhost:8080/"
        },
        "id": "XCBc4Jmy4jTw",
        "outputId": "572d2ceb-c565-4d05-99c9-901c395e1934"
      },
      "execution_count": 37,
      "outputs": [
        {
          "output_type": "stream",
          "name": "stdout",
          "text": [
            "Model: \"sequential_1\"\n",
            "_________________________________________________________________\n",
            " Layer (type)                Output Shape              Param #   \n",
            "=================================================================\n",
            " conv2d_10 (Conv2D)          (None, 128, 128, 32)      896       \n",
            "                                                                 \n",
            " conv2d_11 (Conv2D)          (None, 126, 126, 32)      9248      \n",
            "                                                                 \n",
            " max_pooling2d_5 (MaxPoolin  (None, 63, 63, 32)        0         \n",
            " g2D)                                                            \n",
            "                                                                 \n",
            " conv2d_12 (Conv2D)          (None, 63, 63, 64)        18496     \n",
            "                                                                 \n",
            " conv2d_13 (Conv2D)          (None, 61, 61, 64)        36928     \n",
            "                                                                 \n",
            " max_pooling2d_6 (MaxPoolin  (None, 30, 30, 64)        0         \n",
            " g2D)                                                            \n",
            "                                                                 \n",
            " conv2d_14 (Conv2D)          (None, 30, 30, 128)       73856     \n",
            "                                                                 \n",
            " conv2d_15 (Conv2D)          (None, 28, 28, 128)       147584    \n",
            "                                                                 \n",
            " max_pooling2d_7 (MaxPoolin  (None, 14, 14, 128)       0         \n",
            " g2D)                                                            \n",
            "                                                                 \n",
            " conv2d_16 (Conv2D)          (None, 14, 14, 256)       295168    \n",
            "                                                                 \n",
            " conv2d_17 (Conv2D)          (None, 12, 12, 256)       590080    \n",
            "                                                                 \n",
            " max_pooling2d_8 (MaxPoolin  (None, 6, 6, 256)         0         \n",
            " g2D)                                                            \n",
            "                                                                 \n",
            " conv2d_18 (Conv2D)          (None, 6, 6, 512)         1180160   \n",
            "                                                                 \n",
            " conv2d_19 (Conv2D)          (None, 4, 4, 512)         2359808   \n",
            "                                                                 \n",
            " max_pooling2d_9 (MaxPoolin  (None, 2, 2, 512)         0         \n",
            " g2D)                                                            \n",
            "                                                                 \n",
            " dropout_1 (Dropout)         (None, 2, 2, 512)         0         \n",
            "                                                                 \n",
            " flatten_1 (Flatten)         (None, 2048)              0         \n",
            "                                                                 \n",
            " dense_2 (Dense)             (None, 1500)              3073500   \n",
            "                                                                 \n",
            " dropout_2 (Dropout)         (None, 1500)              0         \n",
            "                                                                 \n",
            " dense_3 (Dense)             (None, 3)                 4503      \n",
            "                                                                 \n",
            "=================================================================\n",
            "Total params: 7790227 (29.72 MB)\n",
            "Trainable params: 7790227 (29.72 MB)\n",
            "Non-trainable params: 0 (0.00 Byte)\n",
            "_________________________________________________________________\n"
          ]
        }
      ]
    },
    {
      "cell_type": "code",
      "source": [
        "model.compile(optimizer=tf.keras.optimizers.legacy.Adam(\n",
        "    learning_rate=0.0001),loss='categorical_crossentropy',metrics=['accuracy'])\n",
        "#the learning rate was changes here to improve the accuracy over herea"
      ],
      "metadata": {
        "id": "emvSgsLcW8Ea"
      },
      "execution_count": 38,
      "outputs": []
    },
    {
      "cell_type": "code",
      "source": [
        "training_history = model.fit(x=train_set,validation_data=validation_set,epochs=10)"
      ],
      "metadata": {
        "colab": {
          "base_uri": "https://localhost:8080/"
        },
        "id": "JYgEICzHDoeW",
        "outputId": "2da9f928-0c03-409a-95d1-c486cb342d31"
      },
      "execution_count": 39,
      "outputs": [
        {
          "output_type": "stream",
          "name": "stdout",
          "text": [
            "Epoch 1/10\n",
            "42/42 [==============================] - 147s 3s/step - loss: 0.9952 - accuracy: 0.5113 - val_loss: 0.7719 - val_accuracy: 0.6000\n",
            "Epoch 2/10\n",
            "42/42 [==============================] - 144s 3s/step - loss: 0.6216 - accuracy: 0.7201 - val_loss: 0.5390 - val_accuracy: 0.8167\n",
            "Epoch 3/10\n",
            "42/42 [==============================] - 149s 3s/step - loss: 0.4209 - accuracy: 0.8343 - val_loss: 0.4450 - val_accuracy: 0.8000\n",
            "Epoch 4/10\n",
            "42/42 [==============================] - 142s 3s/step - loss: 0.2948 - accuracy: 0.8941 - val_loss: 0.3340 - val_accuracy: 0.9167\n",
            "Epoch 5/10\n",
            "42/42 [==============================] - 140s 3s/step - loss: 0.2040 - accuracy: 0.9259 - val_loss: 0.4245 - val_accuracy: 0.8667\n",
            "Epoch 6/10\n",
            "42/42 [==============================] - 144s 3s/step - loss: 0.1675 - accuracy: 0.9387 - val_loss: 0.3592 - val_accuracy: 0.8833\n",
            "Epoch 7/10\n",
            "42/42 [==============================] - 141s 3s/step - loss: 0.1090 - accuracy: 0.9576 - val_loss: 0.6249 - val_accuracy: 0.8500\n",
            "Epoch 8/10\n",
            "42/42 [==============================] - 141s 3s/step - loss: 0.1501 - accuracy: 0.9493 - val_loss: 0.2891 - val_accuracy: 0.9000\n",
            "Epoch 9/10\n",
            "42/42 [==============================] - 141s 3s/step - loss: 0.0828 - accuracy: 0.9697 - val_loss: 0.2246 - val_accuracy: 0.9500\n",
            "Epoch 10/10\n",
            "42/42 [==============================] - 141s 3s/step - loss: 0.0792 - accuracy: 0.9743 - val_loss: 0.2841 - val_accuracy: 0.9500\n"
          ]
        }
      ]
    },
    {
      "cell_type": "markdown",
      "source": [
        "**Model Evaluation**"
      ],
      "metadata": {
        "id": "AeS336moDphD"
      }
    },
    {
      "cell_type": "code",
      "source": [
        "train_loss, train_acc = model.evaluate(train_set)\n",
        "print('Training accuracy:', train_acc)\n",
        "#Training set Accuracy"
      ],
      "metadata": {
        "colab": {
          "base_uri": "https://localhost:8080/"
        },
        "id": "06ZPNwrFsXcv",
        "outputId": "8518bfb6-8f54-44c3-ede0-20f1a9c1e12a"
      },
      "execution_count": 40,
      "outputs": [
        {
          "output_type": "stream",
          "name": "stdout",
          "text": [
            "42/42 [==============================] - 63s 1s/step - loss: 0.0324 - accuracy: 0.9909\n",
            "Training accuracy: 0.9909228682518005\n"
          ]
        }
      ]
    },
    {
      "cell_type": "code",
      "source": [
        "#Validation set Accuracy\n",
        "val_loss, val_acc = model.evaluate(validation_set)\n",
        "print('Validation accuracy:', val_acc)"
      ],
      "metadata": {
        "colab": {
          "base_uri": "https://localhost:8080/"
        },
        "id": "zxfZ0JWJs4bs",
        "outputId": "259642e4-2291-49aa-ed18-896111cf5d23"
      },
      "execution_count": 41,
      "outputs": [
        {
          "output_type": "stream",
          "name": "stdout",
          "text": [
            "2/2 [==============================] - 4s 578ms/step - loss: 0.2841 - accuracy: 0.9500\n",
            "Validation accuracy: 0.949999988079071\n"
          ]
        }
      ]
    },
    {
      "cell_type": "markdown",
      "source": [
        "**Saving Model**\n"
      ],
      "metadata": {
        "id": "GT9uOP2hDcGV"
      }
    },
    {
      "cell_type": "code",
      "source": [
        "model.save('trained_plant_disease_model.keras')"
      ],
      "metadata": {
        "id": "0rN_QMmkCt-7"
      },
      "execution_count": 42,
      "outputs": []
    },
    {
      "cell_type": "code",
      "source": [
        "training_history.history #Return Dictionary of historyb"
      ],
      "metadata": {
        "colab": {
          "base_uri": "https://localhost:8080/"
        },
        "id": "kpf1x5J0CxXt",
        "outputId": "b0e521e3-1a72-4630-c05f-a16b29ff4acd"
      },
      "execution_count": 43,
      "outputs": [
        {
          "output_type": "execute_result",
          "data": {
            "text/plain": [
              "{'loss': [0.9952290058135986,\n",
              "  0.6216055750846863,\n",
              "  0.4209156930446625,\n",
              "  0.2948191463947296,\n",
              "  0.20395882427692413,\n",
              "  0.16749611496925354,\n",
              "  0.10904541611671448,\n",
              "  0.15009641647338867,\n",
              "  0.08277495205402374,\n",
              "  0.07917097955942154],\n",
              " 'accuracy': [0.5113464593887329,\n",
              "  0.7201210260391235,\n",
              "  0.8343418836593628,\n",
              "  0.8940998315811157,\n",
              "  0.925869882106781,\n",
              "  0.9387292265892029,\n",
              "  0.9576399326324463,\n",
              "  0.9493191838264465,\n",
              "  0.9697428345680237,\n",
              "  0.974281370639801],\n",
              " 'val_loss': [0.7719000577926636,\n",
              "  0.5389567017555237,\n",
              "  0.44501838088035583,\n",
              "  0.33396637439727783,\n",
              "  0.4245152771472931,\n",
              "  0.35924166440963745,\n",
              "  0.6248716711997986,\n",
              "  0.2891259789466858,\n",
              "  0.22463954985141754,\n",
              "  0.2841072678565979],\n",
              " 'val_accuracy': [0.6000000238418579,\n",
              "  0.8166666626930237,\n",
              "  0.800000011920929,\n",
              "  0.9166666865348816,\n",
              "  0.8666666746139526,\n",
              "  0.8833333253860474,\n",
              "  0.8500000238418579,\n",
              "  0.8999999761581421,\n",
              "  0.949999988079071,\n",
              "  0.949999988079071]}"
            ]
          },
          "metadata": {},
          "execution_count": 43
        }
      ]
    },
    {
      "cell_type": "code",
      "source": [
        "#Recording History in json\n",
        "import json\n",
        "with open('training_hist.json','w') as f:\n",
        "  json.dump(training_history.history,f)"
      ],
      "metadata": {
        "id": "lKR-PswqC8Z6"
      },
      "execution_count": 44,
      "outputs": []
    },
    {
      "cell_type": "code",
      "source": [
        "print(training_history.history.keys())"
      ],
      "metadata": {
        "colab": {
          "base_uri": "https://localhost:8080/"
        },
        "id": "27wpFTXSDCm3",
        "outputId": "29339692-2567-4c78-b4c3-1304a0b59fbd"
      },
      "execution_count": 45,
      "outputs": [
        {
          "output_type": "stream",
          "name": "stdout",
          "text": [
            "dict_keys(['loss', 'accuracy', 'val_loss', 'val_accuracy'])\n"
          ]
        }
      ]
    },
    {
      "cell_type": "markdown",
      "source": [
        " **Accuracy Vizualization**"
      ],
      "metadata": {
        "id": "mqN0yX-_wZ3i"
      }
    },
    {
      "cell_type": "code",
      "source": [
        "epochs = [i for i in range(1,11)]\n",
        "plt.plot(epochs,training_history.history['accuracy'],color='red',label='Training Accuracy')\n",
        "plt.plot(epochs,training_history.history['val_accuracy'],color='blue',label='Validation Accuracy')\n",
        "plt.xlabel('No. of Epochs')\n",
        "plt.title('Visualization of Accuracy Result')\n",
        "plt.legend()\n",
        "plt.show()"
      ],
      "metadata": {
        "colab": {
          "base_uri": "https://localhost:8080/",
          "height": 472
        },
        "id": "lp2umrcrDJSW",
        "outputId": "6902b8c1-b9b2-42bc-dbe5-493ed04b2f82"
      },
      "execution_count": 46,
      "outputs": [
        {
          "output_type": "display_data",
          "data": {
            "text/plain": [
              "<Figure size 640x480 with 1 Axes>"
            ],
            "image/png": "[encoded data removed]"
          },
          "metadata": {}
        }
      ]
    },
    {
      "cell_type": "markdown",
      "source": [
        "**Some other metrics used for model evaluation**"
      ],
      "metadata": {
        "id": "g-8NsNrcwj88"
      }
    },
    {
      "cell_type": "code",
      "source": [
        "class_name = test_set.class_names"
      ],
      "metadata": {
        "id": "Z-BSGtj4DKdi"
      },
      "execution_count": 48,
      "outputs": []
    },
    {
      "cell_type": "code",
      "source": [
        "test_set = tf.keras.utils.image_dataset_from_directory(\n",
        "    '/content/drive/MyDrive/Plant disease/Test',\n",
        "    labels=\"inferred\",\n",
        "    label_mode=\"categorical\",\n",
        "    class_names=None,\n",
        "    color_mode=\"rgb\",\n",
        "    batch_size=1,\n",
        "    image_size=(128, 128),\n",
        "    shuffle=False,\n",
        "    seed=None,\n",
        "    validation_split=None,\n",
        "    subset=None,\n",
        "    interpolation=\"bilinear\",\n",
        "    follow_links=False,\n",
        "    crop_to_aspect_ratio=False\n",
        ")"
      ],
      "metadata": {
        "colab": {
          "base_uri": "https://localhost:8080/"
        },
        "id": "1bhRRIW5w1gW",
        "outputId": "0bdff6fb-dd1d-450a-ffb7-33e74af46377"
      },
      "execution_count": 47,
      "outputs": [
        {
          "output_type": "stream",
          "name": "stdout",
          "text": [
            "Found 160 files belonging to 3 classes.\n"
          ]
        }
      ]
    },
    {
      "cell_type": "code",
      "source": [
        "y_pred = model.predict(test_set)\n",
        "y_pred,y_pred.shape"
      ],
      "metadata": {
        "colab": {
          "base_uri": "https://localhost:8080/"
        },
        "id": "4-655JaeFIXI",
        "outputId": "ae10edf9-49c7-4272-e7da-d4a2e28706e9"
      },
      "execution_count": 63,
      "outputs": [
        {
          "output_type": "stream",
          "name": "stdout",
          "text": [
            "160/160 [==============================] - 8s 50ms/step\n"
          ]
        },
        {
          "output_type": "execute_result",
          "data": {
            "text/plain": [
              "(array([[9.78750110e-01, 1.87652502e-02, 2.48462218e-03],\n",
              "        [9.97717381e-01, 1.91341795e-03, 3.69123212e-04],\n",
              "        [9.91010189e-01, 3.81616876e-03, 5.17361239e-03],\n",
              "        [9.96854007e-01, 2.72524171e-03, 4.20812576e-04],\n",
              "        [1.00000000e+00, 1.55465814e-11, 1.10175939e-08],\n",
              "        [9.91344213e-01, 5.78762311e-03, 2.86814594e-03],\n",
              "        [9.99990702e-01, 3.14257022e-07, 8.91528362e-06],\n",
              "        [9.19940472e-01, 1.82388350e-02, 6.18207157e-02],\n",
              "        [1.00000000e+00, 1.14023103e-12, 6.72777778e-10],\n",
              "        [9.96018469e-01, 2.51415349e-03, 1.46735448e-03],\n",
              "        [9.99987602e-01, 7.47998058e-07, 1.17096215e-05],\n",
              "        [9.96181488e-01, 2.20107706e-03, 1.61745551e-03],\n",
              "        [1.31677821e-01, 8.51858556e-01, 1.64636485e-02],\n",
              "        [9.23068047e-01, 7.07632974e-02, 6.16867561e-03],\n",
              "        [1.00000000e+00, 3.28637779e-13, 2.55992716e-09],\n",
              "        [9.98947799e-01, 3.42633757e-06, 1.04878435e-03],\n",
              "        [9.89341497e-01, 1.00277830e-02, 6.30689145e-04],\n",
              "        [7.46310651e-01, 2.46529564e-01, 7.15968106e-03],\n",
              "        [9.93752778e-01, 8.97589372e-04, 5.34966821e-03],\n",
              "        [5.14344811e-01, 4.79592472e-01, 6.06267666e-03],\n",
              "        [9.99936700e-01, 3.02105200e-05, 3.31942902e-05],\n",
              "        [9.98725235e-01, 7.25151622e-04, 5.49523102e-04],\n",
              "        [9.36588466e-01, 5.04460745e-02, 1.29654752e-02],\n",
              "        [9.99996066e-01, 2.55616300e-07, 3.68127985e-06],\n",
              "        [9.99913216e-01, 1.73654382e-06, 8.50426804e-05],\n",
              "        [9.96282160e-01, 2.98287789e-03, 7.34924513e-04],\n",
              "        [9.62722003e-01, 3.14466171e-02, 5.83129050e-03],\n",
              "        [9.99963641e-01, 2.20619222e-06, 3.40646438e-05],\n",
              "        [8.24125826e-01, 1.29996777e-01, 4.58773151e-02],\n",
              "        [9.99823511e-01, 6.57951114e-06, 1.69915351e-04],\n",
              "        [9.73801672e-01, 2.22579446e-02, 3.94040998e-03],\n",
              "        [9.98340726e-01, 3.21892352e-04, 1.33738131e-03],\n",
              "        [9.99628425e-01, 6.12790245e-05, 3.10246978e-04],\n",
              "        [9.99963164e-01, 1.14904753e-06, 3.56953024e-05],\n",
              "        [3.71640682e-01, 5.91331005e-01, 3.70283574e-02],\n",
              "        [9.02491629e-01, 8.49181339e-02, 1.25902668e-02],\n",
              "        [9.98409331e-01, 1.87699050e-06, 1.58881431e-03],\n",
              "        [9.99811471e-01, 7.43602795e-05, 1.14169845e-04],\n",
              "        [9.99999404e-01, 1.67663927e-08, 6.25995995e-07],\n",
              "        [9.98354614e-01, 3.60755977e-04, 1.28465146e-03],\n",
              "        [9.97867823e-01, 1.38670090e-03, 7.45474186e-04],\n",
              "        [8.62938523e-01, 1.16052099e-01, 2.10094359e-02],\n",
              "        [1.00000000e+00, 1.88045391e-12, 1.86760318e-09],\n",
              "        [9.97757137e-01, 9.33353964e-04, 1.30956771e-03],\n",
              "        [9.99993682e-01, 1.16467061e-06, 5.12991983e-06],\n",
              "        [9.99459922e-01, 1.52079287e-04, 3.88041139e-04],\n",
              "        [9.99814570e-01, 1.25338600e-04, 6.01207939e-05],\n",
              "        [9.99992132e-01, 2.09817781e-08, 7.84873100e-06],\n",
              "        [9.99484420e-01, 1.47109560e-04, 3.68382403e-04],\n",
              "        [9.83167589e-01, 1.52134076e-02, 1.61908974e-03],\n",
              "        [2.49960180e-02, 9.72293258e-01, 2.71068048e-03],\n",
              "        [2.74171799e-01, 7.12011516e-01, 1.38166565e-02],\n",
              "        [8.01240057e-02, 8.96542966e-01, 2.33329702e-02],\n",
              "        [1.93001106e-01, 7.94248641e-01, 1.27502354e-02],\n",
              "        [1.97264249e-03, 9.97448206e-01, 5.79162384e-04],\n",
              "        [9.95398700e-01, 8.78860592e-04, 3.72255454e-03],\n",
              "        [3.54196574e-03, 9.94636834e-01, 1.82125182e-03],\n",
              "        [1.87055324e-03, 9.97792602e-01, 3.36881232e-04],\n",
              "        [1.27162309e-02, 9.83076215e-01, 4.20752866e-03],\n",
              "        [1.47776605e-04, 9.99750197e-01, 1.02059290e-04],\n",
              "        [1.76004358e-02, 9.80852783e-01, 1.54686533e-03],\n",
              "        [1.58744752e-01, 8.19487870e-01, 2.17673648e-02],\n",
              "        [1.43251277e-03, 9.97509599e-01, 1.05786498e-03],\n",
              "        [3.19540501e-02, 9.65248644e-01, 2.79736985e-03],\n",
              "        [4.49803099e-03, 9.94828880e-01, 6.73124858e-04],\n",
              "        [3.30744253e-04, 9.99617457e-01, 5.17453445e-05],\n",
              "        [6.63109357e-03, 9.92403388e-01, 9.65554325e-04],\n",
              "        [2.64162887e-02, 9.72467780e-01, 1.11587951e-03],\n",
              "        [6.72598975e-03, 9.92389739e-01, 8.84310750e-04],\n",
              "        [6.68083318e-03, 9.90024030e-01, 3.29514709e-03],\n",
              "        [1.85851147e-03, 9.97140884e-01, 1.00068841e-03],\n",
              "        [7.47634214e-04, 9.98306990e-01, 9.45438107e-04],\n",
              "        [2.50964868e-03, 9.95816171e-01, 1.67422357e-03],\n",
              "        [1.44950591e-03, 9.98300850e-01, 2.49621255e-04],\n",
              "        [4.64099878e-03, 9.94256318e-01, 1.10273343e-03],\n",
              "        [2.98173079e-04, 9.99401808e-01, 2.99991400e-04],\n",
              "        [1.32629444e-04, 9.99789655e-01, 7.76535308e-05],\n",
              "        [7.16587994e-03, 9.90554154e-01, 2.27991748e-03],\n",
              "        [1.11047644e-03, 9.98504758e-01, 3.84811923e-04],\n",
              "        [3.25596193e-03, 9.96234119e-01, 5.09969657e-04],\n",
              "        [3.64832138e-03, 9.95899618e-01, 4.52037726e-04],\n",
              "        [3.84803414e-02, 9.58657503e-01, 2.86219036e-03],\n",
              "        [4.72846720e-03, 9.94492888e-01, 7.78616464e-04],\n",
              "        [8.49253032e-03, 9.89496708e-01, 2.01064022e-03],\n",
              "        [6.97541311e-02, 9.28506434e-01, 1.73941441e-03],\n",
              "        [5.40773105e-03, 9.92619455e-01, 1.97273726e-03],\n",
              "        [9.80586559e-03, 9.88493741e-01, 1.70034741e-03],\n",
              "        [8.32818390e-04, 9.98705268e-01, 4.61884250e-04],\n",
              "        [3.26936832e-03, 9.96074200e-01, 6.56431948e-04],\n",
              "        [1.50818075e-03, 9.98031914e-01, 4.59979638e-04],\n",
              "        [6.85073435e-03, 9.92985547e-01, 1.63731864e-04],\n",
              "        [6.85073435e-03, 9.92985547e-01, 1.63731864e-04],\n",
              "        [2.00052653e-02, 9.79719579e-01, 2.75165599e-04],\n",
              "        [2.00052653e-02, 9.79719579e-01, 2.75165599e-04],\n",
              "        [3.52473371e-03, 9.96352911e-01, 1.22318801e-04],\n",
              "        [3.52473371e-03, 9.96352911e-01, 1.22318801e-04],\n",
              "        [1.26534656e-01, 8.65952015e-01, 7.51340063e-03],\n",
              "        [1.26534656e-01, 8.65952015e-01, 7.51340063e-03],\n",
              "        [9.24037769e-03, 9.90332067e-01, 4.27443912e-04],\n",
              "        [9.24037769e-03, 9.90332067e-01, 4.27443912e-04],\n",
              "        [1.22791864e-02, 9.85327482e-01, 2.39333208e-03],\n",
              "        [1.22791864e-02, 9.85327482e-01, 2.39333208e-03],\n",
              "        [3.88497283e-04, 9.99488354e-01, 1.23136269e-04],\n",
              "        [3.88497283e-04, 9.99488354e-01, 1.23136269e-04],\n",
              "        [2.89446153e-02, 9.66532171e-01, 4.52321116e-03],\n",
              "        [2.89446153e-02, 9.66532171e-01, 4.52321116e-03],\n",
              "        [2.44991984e-02, 9.74130392e-01, 1.37040194e-03],\n",
              "        [2.44991984e-02, 9.74130392e-01, 1.37040194e-03],\n",
              "        [9.99870539e-01, 6.60637670e-05, 6.34254466e-05],\n",
              "        [9.99870539e-01, 6.60637670e-05, 6.34254466e-05],\n",
              "        [2.19591643e-35, 2.19064262e-30, 1.00000000e+00],\n",
              "        [8.65744858e-16, 1.09956064e-13, 1.00000000e+00],\n",
              "        [5.98681945e-05, 6.28790120e-03, 9.93652225e-01],\n",
              "        [3.33429525e-05, 1.69296964e-05, 9.99949694e-01],\n",
              "        [3.05990247e-27, 1.90297247e-23, 1.00000000e+00],\n",
              "        [1.13553895e-08, 2.96434006e-08, 1.00000000e+00],\n",
              "        [1.27426925e-18, 4.43236629e-15, 1.00000000e+00],\n",
              "        [3.33613082e-10, 8.71419992e-10, 1.00000000e+00],\n",
              "        [5.24430976e-13, 2.56274689e-12, 1.00000000e+00],\n",
              "        [1.74444448e-02, 8.36469291e-04, 9.81719077e-01],\n",
              "        [1.10195603e-17, 9.59608175e-18, 1.00000000e+00],\n",
              "        [7.53648400e-01, 5.88364237e-05, 2.46292740e-01],\n",
              "        [2.59292354e-14, 8.19498075e-14, 1.00000000e+00],\n",
              "        [1.46219581e-09, 1.15670633e-11, 1.00000000e+00],\n",
              "        [4.64541445e-05, 1.08367749e-06, 9.99952435e-01],\n",
              "        [4.72750571e-12, 2.43844233e-11, 1.00000000e+00],\n",
              "        [2.65349797e-07, 1.85585725e-06, 9.99997854e-01],\n",
              "        [5.91206906e-09, 3.80039023e-06, 9.99996185e-01],\n",
              "        [1.21965797e-22, 2.66913184e-17, 1.00000000e+00],\n",
              "        [8.20482246e-13, 4.06149211e-11, 1.00000000e+00],\n",
              "        [1.21707180e-05, 1.53980139e-07, 9.99987721e-01],\n",
              "        [2.28492301e-02, 8.93581775e-04, 9.76257205e-01],\n",
              "        [3.02403713e-10, 1.37632398e-07, 9.99999881e-01],\n",
              "        [3.27216271e-12, 6.34466844e-14, 1.00000000e+00],\n",
              "        [2.59071248e-06, 1.64463358e-08, 9.99997377e-01],\n",
              "        [5.29245178e-17, 5.43971443e-13, 1.00000000e+00],\n",
              "        [3.69191333e-03, 1.96663151e-03, 9.94341493e-01],\n",
              "        [3.44791538e-23, 3.90595182e-18, 1.00000000e+00],\n",
              "        [9.99663115e-01, 7.93309373e-05, 2.57511158e-04],\n",
              "        [6.46774231e-11, 1.63378394e-10, 1.00000000e+00],\n",
              "        [5.49010698e-11, 1.93354263e-10, 1.00000000e+00],\n",
              "        [4.11498604e-06, 2.63522033e-05, 9.99969482e-01],\n",
              "        [3.97684318e-17, 2.84782085e-16, 1.00000000e+00],\n",
              "        [3.00017367e-09, 8.24645852e-10, 1.00000000e+00],\n",
              "        [7.57541011e-06, 1.41972782e-06, 9.99991059e-01],\n",
              "        [3.67184209e-15, 2.75806870e-14, 1.00000000e+00],\n",
              "        [1.85351625e-15, 1.90612890e-12, 1.00000000e+00],\n",
              "        [1.90510914e-01, 1.31368473e-01, 6.78120613e-01],\n",
              "        [2.43852924e-16, 8.99477907e-14, 1.00000000e+00],\n",
              "        [9.82418569e-05, 2.58235758e-07, 9.99901533e-01],\n",
              "        [2.27136573e-11, 8.48696764e-13, 1.00000000e+00],\n",
              "        [5.19724927e-05, 3.41120700e-04, 9.99606907e-01],\n",
              "        [1.65951005e-05, 1.95369381e-03, 9.98029649e-01],\n",
              "        [1.79812765e-23, 3.07626188e-21, 1.00000000e+00],\n",
              "        [8.39265953e-30, 5.90789804e-24, 1.00000000e+00],\n",
              "        [1.77946411e-24, 3.77457196e-19, 1.00000000e+00],\n",
              "        [1.28015485e-18, 3.91659201e-17, 1.00000000e+00],\n",
              "        [1.37750601e-22, 1.11520873e-18, 1.00000000e+00],\n",
              "        [1.64945197e-06, 4.30456612e-06, 9.99994040e-01],\n",
              "        [6.01440555e-14, 1.51376145e-13, 1.00000000e+00]], dtype=float32),\n",
              " (160, 3))"
            ]
          },
          "metadata": {},
          "execution_count": 63
        }
      ]
    },
    {
      "cell_type": "code",
      "source": [
        "predicted_categories = tf.argmax(y_pred,axis=1)\n",
        "#to extract the class with maximum probability"
      ],
      "metadata": {
        "id": "lVmWHzJUFowQ"
      },
      "execution_count": 66,
      "outputs": []
    },
    {
      "cell_type": "code",
      "source": [
        "predicted_categories"
      ],
      "metadata": {
        "colab": {
          "base_uri": "https://localhost:8080/"
        },
        "id": "9Ekz1mhcF1VP",
        "outputId": "0953e293-500a-4df3-f7c0-4d85853cdc5c"
      },
      "execution_count": 67,
      "outputs": [
        {
          "output_type": "execute_result",
          "data": {
            "text/plain": [
              "<tf.Tensor: shape=(160,), dtype=int64, numpy=\n",
              "array([0, 0, 0, 0, 0, 0, 0, 0, 0, 0, 0, 0, 1, 0, 0, 0, 0, 0, 0, 0, 0, 0,\n",
              "       0, 0, 0, 0, 0, 0, 0, 0, 0, 0, 0, 0, 1, 0, 0, 0, 0, 0, 0, 0, 0, 0,\n",
              "       0, 0, 0, 0, 0, 0, 1, 1, 1, 1, 1, 0, 1, 1, 1, 1, 1, 1, 1, 1, 1, 1,\n",
              "       1, 1, 1, 1, 1, 1, 1, 1, 1, 1, 1, 1, 1, 1, 1, 1, 1, 1, 1, 1, 1, 1,\n",
              "       1, 1, 1, 1, 1, 1, 1, 1, 1, 1, 1, 1, 1, 1, 1, 1, 1, 1, 1, 1, 0, 0,\n",
              "       2, 2, 2, 2, 2, 2, 2, 2, 2, 2, 2, 0, 2, 2, 2, 2, 2, 2, 2, 2, 2, 2,\n",
              "       2, 2, 2, 2, 2, 2, 0, 2, 2, 2, 2, 2, 2, 2, 2, 2, 2, 2, 2, 2, 2, 2,\n",
              "       2, 2, 2, 2, 2, 2])>"
            ]
          },
          "metadata": {},
          "execution_count": 67
        }
      ]
    },
    {
      "cell_type": "code",
      "source": [
        "true_categories = tf.concat([y for x, y in test_set], axis=0)\n",
        "true_categories\n",
        "#iterating over the test set\n",
        "#one hot encoding is done here that is for the 1st array the test set belongs to class 1 that is why class 1 is 1 for the rest class it is 0\n"
      ],
      "metadata": {
        "colab": {
          "base_uri": "https://localhost:8080/"
        },
        "id": "P9xMtSRgxAyM",
        "outputId": "3a3cb1be-7329-48f7-c5c8-598a543176a9"
      },
      "execution_count": 68,
      "outputs": [
        {
          "output_type": "execute_result",
          "data": {
            "text/plain": [
              "<tf.Tensor: shape=(160, 3), dtype=float32, numpy=\n",
              "array([[1., 0., 0.],\n",
              "       [1., 0., 0.],\n",
              "       [1., 0., 0.],\n",
              "       [1., 0., 0.],\n",
              "       [1., 0., 0.],\n",
              "       [1., 0., 0.],\n",
              "       [1., 0., 0.],\n",
              "       [1., 0., 0.],\n",
              "       [1., 0., 0.],\n",
              "       [1., 0., 0.],\n",
              "       [1., 0., 0.],\n",
              "       [1., 0., 0.],\n",
              "       [1., 0., 0.],\n",
              "       [1., 0., 0.],\n",
              "       [1., 0., 0.],\n",
              "       [1., 0., 0.],\n",
              "       [1., 0., 0.],\n",
              "       [1., 0., 0.],\n",
              "       [1., 0., 0.],\n",
              "       [1., 0., 0.],\n",
              "       [1., 0., 0.],\n",
              "       [1., 0., 0.],\n",
              "       [1., 0., 0.],\n",
              "       [1., 0., 0.],\n",
              "       [1., 0., 0.],\n",
              "       [1., 0., 0.],\n",
              "       [1., 0., 0.],\n",
              "       [1., 0., 0.],\n",
              "       [1., 0., 0.],\n",
              "       [1., 0., 0.],\n",
              "       [1., 0., 0.],\n",
              "       [1., 0., 0.],\n",
              "       [1., 0., 0.],\n",
              "       [1., 0., 0.],\n",
              "       [1., 0., 0.],\n",
              "       [1., 0., 0.],\n",
              "       [1., 0., 0.],\n",
              "       [1., 0., 0.],\n",
              "       [1., 0., 0.],\n",
              "       [1., 0., 0.],\n",
              "       [1., 0., 0.],\n",
              "       [1., 0., 0.],\n",
              "       [1., 0., 0.],\n",
              "       [1., 0., 0.],\n",
              "       [1., 0., 0.],\n",
              "       [1., 0., 0.],\n",
              "       [1., 0., 0.],\n",
              "       [1., 0., 0.],\n",
              "       [1., 0., 0.],\n",
              "       [1., 0., 0.],\n",
              "       [0., 1., 0.],\n",
              "       [0., 1., 0.],\n",
              "       [0., 1., 0.],\n",
              "       [0., 1., 0.],\n",
              "       [0., 1., 0.],\n",
              "       [0., 1., 0.],\n",
              "       [0., 1., 0.],\n",
              "       [0., 1., 0.],\n",
              "       [0., 1., 0.],\n",
              "       [0., 1., 0.],\n",
              "       [0., 1., 0.],\n",
              "       [0., 1., 0.],\n",
              "       [0., 1., 0.],\n",
              "       [0., 1., 0.],\n",
              "       [0., 1., 0.],\n",
              "       [0., 1., 0.],\n",
              "       [0., 1., 0.],\n",
              "       [0., 1., 0.],\n",
              "       [0., 1., 0.],\n",
              "       [0., 1., 0.],\n",
              "       [0., 1., 0.],\n",
              "       [0., 1., 0.],\n",
              "       [0., 1., 0.],\n",
              "       [0., 1., 0.],\n",
              "       [0., 1., 0.],\n",
              "       [0., 1., 0.],\n",
              "       [0., 1., 0.],\n",
              "       [0., 1., 0.],\n",
              "       [0., 1., 0.],\n",
              "       [0., 1., 0.],\n",
              "       [0., 1., 0.],\n",
              "       [0., 1., 0.],\n",
              "       [0., 1., 0.],\n",
              "       [0., 1., 0.],\n",
              "       [0., 1., 0.],\n",
              "       [0., 1., 0.],\n",
              "       [0., 1., 0.],\n",
              "       [0., 1., 0.],\n",
              "       [0., 1., 0.],\n",
              "       [0., 1., 0.],\n",
              "       [0., 1., 0.],\n",
              "       [0., 1., 0.],\n",
              "       [0., 1., 0.],\n",
              "       [0., 1., 0.],\n",
              "       [0., 1., 0.],\n",
              "       [0., 1., 0.],\n",
              "       [0., 1., 0.],\n",
              "       [0., 1., 0.],\n",
              "       [0., 1., 0.],\n",
              "       [0., 1., 0.],\n",
              "       [0., 1., 0.],\n",
              "       [0., 1., 0.],\n",
              "       [0., 1., 0.],\n",
              "       [0., 1., 0.],\n",
              "       [0., 1., 0.],\n",
              "       [0., 1., 0.],\n",
              "       [0., 1., 0.],\n",
              "       [0., 1., 0.],\n",
              "       [0., 1., 0.],\n",
              "       [0., 1., 0.],\n",
              "       [0., 0., 1.],\n",
              "       [0., 0., 1.],\n",
              "       [0., 0., 1.],\n",
              "       [0., 0., 1.],\n",
              "       [0., 0., 1.],\n",
              "       [0., 0., 1.],\n",
              "       [0., 0., 1.],\n",
              "       [0., 0., 1.],\n",
              "       [0., 0., 1.],\n",
              "       [0., 0., 1.],\n",
              "       [0., 0., 1.],\n",
              "       [0., 0., 1.],\n",
              "       [0., 0., 1.],\n",
              "       [0., 0., 1.],\n",
              "       [0., 0., 1.],\n",
              "       [0., 0., 1.],\n",
              "       [0., 0., 1.],\n",
              "       [0., 0., 1.],\n",
              "       [0., 0., 1.],\n",
              "       [0., 0., 1.],\n",
              "       [0., 0., 1.],\n",
              "       [0., 0., 1.],\n",
              "       [0., 0., 1.],\n",
              "       [0., 0., 1.],\n",
              "       [0., 0., 1.],\n",
              "       [0., 0., 1.],\n",
              "       [0., 0., 1.],\n",
              "       [0., 0., 1.],\n",
              "       [0., 0., 1.],\n",
              "       [0., 0., 1.],\n",
              "       [0., 0., 1.],\n",
              "       [0., 0., 1.],\n",
              "       [0., 0., 1.],\n",
              "       [0., 0., 1.],\n",
              "       [0., 0., 1.],\n",
              "       [0., 0., 1.],\n",
              "       [0., 0., 1.],\n",
              "       [0., 0., 1.],\n",
              "       [0., 0., 1.],\n",
              "       [0., 0., 1.],\n",
              "       [0., 0., 1.],\n",
              "       [0., 0., 1.],\n",
              "       [0., 0., 1.],\n",
              "       [0., 0., 1.],\n",
              "       [0., 0., 1.],\n",
              "       [0., 0., 1.],\n",
              "       [0., 0., 1.],\n",
              "       [0., 0., 1.],\n",
              "       [0., 0., 1.],\n",
              "       [0., 0., 1.]], dtype=float32)>"
            ]
          },
          "metadata": {},
          "execution_count": 68
        }
      ]
    },
    {
      "cell_type": "code",
      "source": [
        "Y_true = tf.argmax(true_categories,axis=1)\n",
        "Y_true"
      ],
      "metadata": {
        "colab": {
          "base_uri": "https://localhost:8080/"
        },
        "id": "iyiRDXYQHWDm",
        "outputId": "2fb8543b-bddf-43f6-ade4-82cd1e9ff1a1"
      },
      "execution_count": 69,
      "outputs": [
        {
          "output_type": "execute_result",
          "data": {
            "text/plain": [
              "<tf.Tensor: shape=(160,), dtype=int64, numpy=\n",
              "array([0, 0, 0, 0, 0, 0, 0, 0, 0, 0, 0, 0, 0, 0, 0, 0, 0, 0, 0, 0, 0, 0,\n",
              "       0, 0, 0, 0, 0, 0, 0, 0, 0, 0, 0, 0, 0, 0, 0, 0, 0, 0, 0, 0, 0, 0,\n",
              "       0, 0, 0, 0, 0, 0, 1, 1, 1, 1, 1, 1, 1, 1, 1, 1, 1, 1, 1, 1, 1, 1,\n",
              "       1, 1, 1, 1, 1, 1, 1, 1, 1, 1, 1, 1, 1, 1, 1, 1, 1, 1, 1, 1, 1, 1,\n",
              "       1, 1, 1, 1, 1, 1, 1, 1, 1, 1, 1, 1, 1, 1, 1, 1, 1, 1, 1, 1, 1, 1,\n",
              "       2, 2, 2, 2, 2, 2, 2, 2, 2, 2, 2, 2, 2, 2, 2, 2, 2, 2, 2, 2, 2, 2,\n",
              "       2, 2, 2, 2, 2, 2, 2, 2, 2, 2, 2, 2, 2, 2, 2, 2, 2, 2, 2, 2, 2, 2,\n",
              "       2, 2, 2, 2, 2, 2])>"
            ]
          },
          "metadata": {},
          "execution_count": 69
        }
      ]
    },
    {
      "cell_type": "code",
      "source": [
        "from sklearn.metrics import confusion_matrix,classification_report\n",
        "cm = confusion_matrix(Y_true,predicted_categories)"
      ],
      "metadata": {
        "id": "GmhL_oQcxRCt"
      },
      "execution_count": 70,
      "outputs": []
    },
    {
      "cell_type": "code",
      "source": [
        "# Precision Recall Fscore\n",
        "print(classification_report(Y_true,predicted_categories,target_names=class_name))"
      ],
      "metadata": {
        "colab": {
          "base_uri": "https://localhost:8080/"
        },
        "id": "Nn6YxtfPxR-O",
        "outputId": "b58d1278-53be-4ccb-8432-1b9468b8a1a8"
      },
      "execution_count": 71,
      "outputs": [
        {
          "output_type": "stream",
          "name": "stdout",
          "text": [
            "              precision    recall  f1-score   support\n",
            "\n",
            "     Healthy       0.91      0.96      0.93        50\n",
            "     Powdery       0.97      0.95      0.96        60\n",
            "        Rust       1.00      0.96      0.98        50\n",
            "\n",
            "    accuracy                           0.96       160\n",
            "   macro avg       0.96      0.96      0.96       160\n",
            "weighted avg       0.96      0.96      0.96       160\n",
            "\n"
          ]
        }
      ]
    },
    {
      "cell_type": "markdown",
      "source": [
        "**Confusion Matrix Vizualization**"
      ],
      "metadata": {
        "id": "IS_WzH2-xcsv"
      }
    },
    {
      "cell_type": "code",
      "source": [
        "cm  = confusion_matrix(Y_true,predicted_categories)\n",
        "cm"
      ],
      "metadata": {
        "colab": {
          "base_uri": "https://localhost:8080/"
        },
        "id": "KQyvikw-Njmq",
        "outputId": "223c6830-edf0-4006-9f77-a8690110209d"
      },
      "execution_count": 73,
      "outputs": [
        {
          "output_type": "execute_result",
          "data": {
            "text/plain": [
              "array([[48,  2,  0],\n",
              "       [ 3, 57,  0],\n",
              "       [ 2,  0, 48]])"
            ]
          },
          "metadata": {},
          "execution_count": 73
        }
      ]
    },
    {
      "cell_type": "code",
      "source": [
        "import seaborn as sns\n",
        "plt.figure(figsize=(4, 4))\n",
        "sns.heatmap(cm,annot=True,annot_kws={\"size\": 10})\n",
        "\n",
        "plt.xlabel('Predicted Class',fontsize = 10)\n",
        "plt.ylabel('Actual Class',fontsize = 10)\n",
        "plt.title('Plant Disease Prediction Confusion Matrix',fontsize = 15)\n",
        "plt.show()\n"
      ],
      "metadata": {
        "colab": {
          "base_uri": "https://localhost:8080/",
          "height": 412
        },
        "id": "l3vw3IZexaV9",
        "outputId": "118707af-f7f3-4f07-da43-eb89d3ae350e"
      },
      "execution_count": 77,
      "outputs": [
        {
          "output_type": "display_data",
          "data": {
            "text/plain": [
              "<Figure size 400x400 with 2 Axes>"
            ],
            "image/png": "[encoded data removed]"
          },
          "metadata": {}
        }
      ]
    },
    {
      "cell_type": "code",
      "source": [
        "model.predict(test_set)"
      ],
      "metadata": {
        "colab": {
          "base_uri": "https://localhost:8080/"
        },
        "id": "-tlNLp7d9Cw_",
        "outputId": "8672d954-ed6e-4c3b-a736-ee724de4c7c3"
      },
      "execution_count": 62,
      "outputs": [
        {
          "output_type": "stream",
          "name": "stdout",
          "text": [
            "160/160 [==============================] - 8s 52ms/step\n"
          ]
        },
        {
          "output_type": "execute_result",
          "data": {
            "text/plain": [
              "array([[9.78750110e-01, 1.87652502e-02, 2.48462218e-03],\n",
              "       [9.97717381e-01, 1.91341795e-03, 3.69123212e-04],\n",
              "       [9.91010189e-01, 3.81616876e-03, 5.17361239e-03],\n",
              "       [9.96854007e-01, 2.72524171e-03, 4.20812576e-04],\n",
              "       [1.00000000e+00, 1.55465814e-11, 1.10175939e-08],\n",
              "       [9.91344213e-01, 5.78762311e-03, 2.86814594e-03],\n",
              "       [9.99990702e-01, 3.14257022e-07, 8.91528362e-06],\n",
              "       [9.19940472e-01, 1.82388350e-02, 6.18207157e-02],\n",
              "       [1.00000000e+00, 1.14023103e-12, 6.72777778e-10],\n",
              "       [9.96018469e-01, 2.51415349e-03, 1.46735448e-03],\n",
              "       [9.99987602e-01, 7.47998058e-07, 1.17096215e-05],\n",
              "       [9.96181488e-01, 2.20107706e-03, 1.61745551e-03],\n",
              "       [1.31677821e-01, 8.51858556e-01, 1.64636485e-02],\n",
              "       [9.23068047e-01, 7.07632974e-02, 6.16867561e-03],\n",
              "       [1.00000000e+00, 3.28637779e-13, 2.55992716e-09],\n",
              "       [9.98947799e-01, 3.42633757e-06, 1.04878435e-03],\n",
              "       [9.89341497e-01, 1.00277830e-02, 6.30689145e-04],\n",
              "       [7.46310651e-01, 2.46529564e-01, 7.15968106e-03],\n",
              "       [9.93752778e-01, 8.97589372e-04, 5.34966821e-03],\n",
              "       [5.14344811e-01, 4.79592472e-01, 6.06267666e-03],\n",
              "       [9.99936700e-01, 3.02105200e-05, 3.31942902e-05],\n",
              "       [9.98725235e-01, 7.25151622e-04, 5.49523102e-04],\n",
              "       [9.36588466e-01, 5.04460745e-02, 1.29654752e-02],\n",
              "       [9.99996066e-01, 2.55616300e-07, 3.68127985e-06],\n",
              "       [9.99913216e-01, 1.73654382e-06, 8.50426804e-05],\n",
              "       [9.96282160e-01, 2.98287789e-03, 7.34924513e-04],\n",
              "       [9.62722003e-01, 3.14466171e-02, 5.83129050e-03],\n",
              "       [9.99963641e-01, 2.20619222e-06, 3.40646438e-05],\n",
              "       [8.24125826e-01, 1.29996777e-01, 4.58773151e-02],\n",
              "       [9.99823511e-01, 6.57951114e-06, 1.69915351e-04],\n",
              "       [9.73801672e-01, 2.22579446e-02, 3.94040998e-03],\n",
              "       [9.98340726e-01, 3.21892352e-04, 1.33738131e-03],\n",
              "       [9.99628425e-01, 6.12790245e-05, 3.10246978e-04],\n",
              "       [9.99963164e-01, 1.14904753e-06, 3.56953024e-05],\n",
              "       [3.71640682e-01, 5.91331005e-01, 3.70283574e-02],\n",
              "       [9.02491629e-01, 8.49181339e-02, 1.25902668e-02],\n",
              "       [9.98409331e-01, 1.87699050e-06, 1.58881431e-03],\n",
              "       [9.99811471e-01, 7.43602795e-05, 1.14169845e-04],\n",
              "       [9.99999404e-01, 1.67663927e-08, 6.25995995e-07],\n",
              "       [9.98354614e-01, 3.60755977e-04, 1.28465146e-03],\n",
              "       [9.97867823e-01, 1.38670090e-03, 7.45474186e-04],\n",
              "       [8.62938523e-01, 1.16052099e-01, 2.10094359e-02],\n",
              "       [1.00000000e+00, 1.88045391e-12, 1.86760318e-09],\n",
              "       [9.97757137e-01, 9.33353964e-04, 1.30956771e-03],\n",
              "       [9.99993682e-01, 1.16467061e-06, 5.12991983e-06],\n",
              "       [9.99459922e-01, 1.52079287e-04, 3.88041139e-04],\n",
              "       [9.99814570e-01, 1.25338600e-04, 6.01207939e-05],\n",
              "       [9.99992132e-01, 2.09817781e-08, 7.84873100e-06],\n",
              "       [9.99484420e-01, 1.47109560e-04, 3.68382403e-04],\n",
              "       [9.83167589e-01, 1.52134076e-02, 1.61908974e-03],\n",
              "       [2.49960180e-02, 9.72293258e-01, 2.71068048e-03],\n",
              "       [2.74171799e-01, 7.12011516e-01, 1.38166565e-02],\n",
              "       [8.01240057e-02, 8.96542966e-01, 2.33329702e-02],\n",
              "       [1.93001106e-01, 7.94248641e-01, 1.27502354e-02],\n",
              "       [1.97264249e-03, 9.97448206e-01, 5.79162384e-04],\n",
              "       [9.95398700e-01, 8.78860592e-04, 3.72255454e-03],\n",
              "       [3.54196574e-03, 9.94636834e-01, 1.82125182e-03],\n",
              "       [1.87055324e-03, 9.97792602e-01, 3.36881232e-04],\n",
              "       [1.27162309e-02, 9.83076215e-01, 4.20752866e-03],\n",
              "       [1.47776605e-04, 9.99750197e-01, 1.02059290e-04],\n",
              "       [1.76004358e-02, 9.80852783e-01, 1.54686533e-03],\n",
              "       [1.58744752e-01, 8.19487870e-01, 2.17673648e-02],\n",
              "       [1.43251277e-03, 9.97509599e-01, 1.05786498e-03],\n",
              "       [3.19540501e-02, 9.65248644e-01, 2.79736985e-03],\n",
              "       [4.49803099e-03, 9.94828880e-01, 6.73124858e-04],\n",
              "       [3.30744253e-04, 9.99617457e-01, 5.17453445e-05],\n",
              "       [6.63109357e-03, 9.92403388e-01, 9.65554325e-04],\n",
              "       [2.64162887e-02, 9.72467780e-01, 1.11587951e-03],\n",
              "       [6.72598975e-03, 9.92389739e-01, 8.84310750e-04],\n",
              "       [6.68083318e-03, 9.90024030e-01, 3.29514709e-03],\n",
              "       [1.85851147e-03, 9.97140884e-01, 1.00068841e-03],\n",
              "       [7.47634214e-04, 9.98306990e-01, 9.45438107e-04],\n",
              "       [2.50964868e-03, 9.95816171e-01, 1.67422357e-03],\n",
              "       [1.44950591e-03, 9.98300850e-01, 2.49621255e-04],\n",
              "       [4.64099878e-03, 9.94256318e-01, 1.10273343e-03],\n",
              "       [2.98173079e-04, 9.99401808e-01, 2.99991400e-04],\n",
              "       [1.32629444e-04, 9.99789655e-01, 7.76535308e-05],\n",
              "       [7.16587994e-03, 9.90554154e-01, 2.27991748e-03],\n",
              "       [1.11047644e-03, 9.98504758e-01, 3.84811923e-04],\n",
              "       [3.25596193e-03, 9.96234119e-01, 5.09969657e-04],\n",
              "       [3.64832138e-03, 9.95899618e-01, 4.52037726e-04],\n",
              "       [3.84803414e-02, 9.58657503e-01, 2.86219036e-03],\n",
              "       [4.72846720e-03, 9.94492888e-01, 7.78616464e-04],\n",
              "       [8.49253032e-03, 9.89496708e-01, 2.01064022e-03],\n",
              "       [6.97541311e-02, 9.28506434e-01, 1.73941441e-03],\n",
              "       [5.40773105e-03, 9.92619455e-01, 1.97273726e-03],\n",
              "       [9.80586559e-03, 9.88493741e-01, 1.70034741e-03],\n",
              "       [8.32818390e-04, 9.98705268e-01, 4.61884250e-04],\n",
              "       [3.26936832e-03, 9.96074200e-01, 6.56431948e-04],\n",
              "       [1.50818075e-03, 9.98031914e-01, 4.59979638e-04],\n",
              "       [6.85073435e-03, 9.92985547e-01, 1.63731864e-04],\n",
              "       [6.85073435e-03, 9.92985547e-01, 1.63731864e-04],\n",
              "       [2.00052653e-02, 9.79719579e-01, 2.75165599e-04],\n",
              "       [2.00052653e-02, 9.79719579e-01, 2.75165599e-04],\n",
              "       [3.52473371e-03, 9.96352911e-01, 1.22318801e-04],\n",
              "       [3.52473371e-03, 9.96352911e-01, 1.22318801e-04],\n",
              "       [1.26534656e-01, 8.65952015e-01, 7.51340063e-03],\n",
              "       [1.26534656e-01, 8.65952015e-01, 7.51340063e-03],\n",
              "       [9.24037769e-03, 9.90332067e-01, 4.27443912e-04],\n",
              "       [9.24037769e-03, 9.90332067e-01, 4.27443912e-04],\n",
              "       [1.22791864e-02, 9.85327482e-01, 2.39333208e-03],\n",
              "       [1.22791864e-02, 9.85327482e-01, 2.39333208e-03],\n",
              "       [3.88497283e-04, 9.99488354e-01, 1.23136269e-04],\n",
              "       [3.88497283e-04, 9.99488354e-01, 1.23136269e-04],\n",
              "       [2.89446153e-02, 9.66532171e-01, 4.52321116e-03],\n",
              "       [2.89446153e-02, 9.66532171e-01, 4.52321116e-03],\n",
              "       [2.44991984e-02, 9.74130392e-01, 1.37040194e-03],\n",
              "       [2.44991984e-02, 9.74130392e-01, 1.37040194e-03],\n",
              "       [9.99870539e-01, 6.60637670e-05, 6.34254466e-05],\n",
              "       [9.99870539e-01, 6.60637670e-05, 6.34254466e-05],\n",
              "       [2.19591643e-35, 2.19064262e-30, 1.00000000e+00],\n",
              "       [8.65744858e-16, 1.09956064e-13, 1.00000000e+00],\n",
              "       [5.98681945e-05, 6.28790120e-03, 9.93652225e-01],\n",
              "       [3.33429525e-05, 1.69296964e-05, 9.99949694e-01],\n",
              "       [3.05990247e-27, 1.90297247e-23, 1.00000000e+00],\n",
              "       [1.13553895e-08, 2.96434006e-08, 1.00000000e+00],\n",
              "       [1.27426925e-18, 4.43236629e-15, 1.00000000e+00],\n",
              "       [3.33613082e-10, 8.71419992e-10, 1.00000000e+00],\n",
              "       [5.24430976e-13, 2.56274689e-12, 1.00000000e+00],\n",
              "       [1.74444448e-02, 8.36469291e-04, 9.81719077e-01],\n",
              "       [1.10195603e-17, 9.59608175e-18, 1.00000000e+00],\n",
              "       [7.53648400e-01, 5.88364237e-05, 2.46292740e-01],\n",
              "       [2.59292354e-14, 8.19498075e-14, 1.00000000e+00],\n",
              "       [1.46219581e-09, 1.15670633e-11, 1.00000000e+00],\n",
              "       [4.64541445e-05, 1.08367749e-06, 9.99952435e-01],\n",
              "       [4.72750571e-12, 2.43844233e-11, 1.00000000e+00],\n",
              "       [2.65349797e-07, 1.85585725e-06, 9.99997854e-01],\n",
              "       [5.91206906e-09, 3.80039023e-06, 9.99996185e-01],\n",
              "       [1.21965797e-22, 2.66913184e-17, 1.00000000e+00],\n",
              "       [8.20482246e-13, 4.06149211e-11, 1.00000000e+00],\n",
              "       [1.21707180e-05, 1.53980139e-07, 9.99987721e-01],\n",
              "       [2.28492301e-02, 8.93581775e-04, 9.76257205e-01],\n",
              "       [3.02403713e-10, 1.37632398e-07, 9.99999881e-01],\n",
              "       [3.27216271e-12, 6.34466844e-14, 1.00000000e+00],\n",
              "       [2.59071248e-06, 1.64463358e-08, 9.99997377e-01],\n",
              "       [5.29245178e-17, 5.43971443e-13, 1.00000000e+00],\n",
              "       [3.69191333e-03, 1.96663151e-03, 9.94341493e-01],\n",
              "       [3.44791538e-23, 3.90595182e-18, 1.00000000e+00],\n",
              "       [9.99663115e-01, 7.93309373e-05, 2.57511158e-04],\n",
              "       [6.46774231e-11, 1.63378394e-10, 1.00000000e+00],\n",
              "       [5.49010698e-11, 1.93354263e-10, 1.00000000e+00],\n",
              "       [4.11498604e-06, 2.63522033e-05, 9.99969482e-01],\n",
              "       [3.97684318e-17, 2.84782085e-16, 1.00000000e+00],\n",
              "       [3.00017367e-09, 8.24645852e-10, 1.00000000e+00],\n",
              "       [7.57541011e-06, 1.41972782e-06, 9.99991059e-01],\n",
              "       [3.67184209e-15, 2.75806870e-14, 1.00000000e+00],\n",
              "       [1.85351625e-15, 1.90612890e-12, 1.00000000e+00],\n",
              "       [1.90510914e-01, 1.31368473e-01, 6.78120613e-01],\n",
              "       [2.43852924e-16, 8.99477907e-14, 1.00000000e+00],\n",
              "       [9.82418569e-05, 2.58235758e-07, 9.99901533e-01],\n",
              "       [2.27136573e-11, 8.48696764e-13, 1.00000000e+00],\n",
              "       [5.19724927e-05, 3.41120700e-04, 9.99606907e-01],\n",
              "       [1.65951005e-05, 1.95369381e-03, 9.98029649e-01],\n",
              "       [1.79812765e-23, 3.07626188e-21, 1.00000000e+00],\n",
              "       [8.39265953e-30, 5.90789804e-24, 1.00000000e+00],\n",
              "       [1.77946411e-24, 3.77457196e-19, 1.00000000e+00],\n",
              "       [1.28015485e-18, 3.91659201e-17, 1.00000000e+00],\n",
              "       [1.37750601e-22, 1.11520873e-18, 1.00000000e+00],\n",
              "       [1.64945197e-06, 4.30456612e-06, 9.99994040e-01],\n",
              "       [6.01440555e-14, 1.51376145e-13, 1.00000000e+00]], dtype=float32)"
            ]
          },
          "metadata": {},
          "execution_count": 62
        }
      ]
    },
    {
      "cell_type": "code",
      "source": [],
      "metadata": {
        "id": "L45uZCNRErjw"
      },
      "execution_count": null,
      "outputs": []
    }
  ],
  "metadata": {
    "colab": {
      "provenance": []
    },
    "kernelspec": {
      "display_name": "Python 3",
      "name": "python3"
    }
  },
  "nbformat": 4,
  "nbformat_minor": 0
}